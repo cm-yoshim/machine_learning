{
 "cells": [
  {
   "cell_type": "markdown",
   "metadata": {},
   "source": [
    "# 概要\n",
    "「特徴量自動生成」→「特徴量選択」→「HPO」の流れをRandomForestRegressiorでなんとなくやってみる。  \n",
    "これが簡単にできたら、とりあえずデータ渡された時の初動がよくなりそう。  \n",
    "（あくまでも、初動がよくなるだけ）\n"
   ]
  },
  {
   "cell_type": "markdown",
   "metadata": {},
   "source": [
    "# 1.特徴量自動生成　\n",
    "[featuretools](https://github.com/Featuretools/featuretools)をINSTALL  \n",
    "[このブログ](https://qiita.com/Hyperion13fleet/items/4eaca365f28049fe11c7)も参考になる。  \n",
    "[公式doc](https://docs.featuretools.com/index.html)  \n",
    "[論文](http://www.jmaxkanter.com/static/papers/DSAA_DSM_2015.pdf)"
   ]
  },
  {
   "cell_type": "code",
   "execution_count": 1,
   "metadata": {},
   "outputs": [
    {
     "name": "stdout",
     "output_type": "stream",
     "text": [
      "Requirement already satisfied: featuretools in /home/ec2-user/anaconda3/envs/python3/lib/python3.6/site-packages (0.5.1)\n",
      "Requirement already satisfied: pandas>=0.23.0 in /home/ec2-user/anaconda3/envs/python3/lib/python3.6/site-packages (from featuretools) (0.23.4)\n",
      "Requirement already satisfied: future>=0.16.0 in /home/ec2-user/anaconda3/envs/python3/lib/python3.6/site-packages (from featuretools) (0.17.1)\n",
      "Requirement already satisfied: click>=7.0.0 in /home/ec2-user/anaconda3/envs/python3/lib/python3.6/site-packages (from featuretools) (7.0)\n",
      "Requirement already satisfied: psutil>=5.4.8 in /home/ec2-user/anaconda3/envs/python3/lib/python3.6/site-packages (from featuretools) (5.4.8)\n",
      "Requirement already satisfied: cloudpickle>=0.4.0 in /home/ec2-user/anaconda3/envs/python3/lib/python3.6/site-packages (from featuretools) (0.5.3)\n",
      "Requirement already satisfied: numpy>=1.13.3 in /home/ec2-user/anaconda3/envs/python3/lib/python3.6/site-packages (from featuretools) (1.14.5)\n",
      "Requirement already satisfied: scikit-learn>=0.20.0 in /home/ec2-user/anaconda3/envs/python3/lib/python3.6/site-packages (from featuretools) (0.20.2)\n",
      "Requirement already satisfied: dask>=0.19.4 in /home/ec2-user/anaconda3/envs/python3/lib/python3.6/site-packages (from featuretools) (1.0.0)\n",
      "Requirement already satisfied: toolz>=0.8.2 in /home/ec2-user/anaconda3/envs/python3/lib/python3.6/site-packages (from featuretools) (0.9.0)\n",
      "Requirement already satisfied: distributed>=1.24.2 in /home/ec2-user/anaconda3/envs/python3/lib/python3.6/site-packages (from featuretools) (1.25.2)\n",
      "Requirement already satisfied: s3fs>=0.1.5 in /home/ec2-user/anaconda3/envs/python3/lib/python3.6/site-packages (from featuretools) (0.1.5)\n",
      "Requirement already satisfied: smart-open>=1.7.1 in /home/ec2-user/anaconda3/envs/python3/lib/python3.6/site-packages (from featuretools) (1.7.1)\n",
      "Requirement already satisfied: tqdm>=4.19.2 in /home/ec2-user/anaconda3/envs/python3/lib/python3.6/site-packages (from featuretools) (4.29.1)\n",
      "Requirement already satisfied: pyyaml>=3.12 in /home/ec2-user/anaconda3/envs/python3/lib/python3.6/site-packages (from featuretools) (3.12)\n",
      "Requirement already satisfied: botocore>=1.12.51 in /home/ec2-user/anaconda3/envs/python3/lib/python3.6/site-packages (from featuretools) (1.12.69)\n",
      "Requirement already satisfied: boto3>=1.9.51 in /home/ec2-user/anaconda3/envs/python3/lib/python3.6/site-packages (from featuretools) (1.9.69)\n",
      "Requirement already satisfied: python-dateutil>=2.5.0 in /home/ec2-user/anaconda3/envs/python3/lib/python3.6/site-packages (from pandas>=0.23.0->featuretools) (2.7.3)\n",
      "Requirement already satisfied: pytz>=2011k in /home/ec2-user/anaconda3/envs/python3/lib/python3.6/site-packages (from pandas>=0.23.0->featuretools) (2018.4)\n",
      "Requirement already satisfied: scipy>=0.13.3 in /home/ec2-user/anaconda3/envs/python3/lib/python3.6/site-packages (from scikit-learn>=0.20.0->featuretools) (1.1.0)\n",
      "Requirement already satisfied: tblib in /home/ec2-user/anaconda3/envs/python3/lib/python3.6/site-packages (from distributed>=1.24.2->featuretools) (1.3.2)\n",
      "Requirement already satisfied: zict>=0.1.3 in /home/ec2-user/anaconda3/envs/python3/lib/python3.6/site-packages (from distributed>=1.24.2->featuretools) (0.1.3)\n",
      "Requirement already satisfied: six in /home/ec2-user/anaconda3/envs/python3/lib/python3.6/site-packages (from distributed>=1.24.2->featuretools) (1.11.0)\n",
      "Requirement already satisfied: msgpack in /home/ec2-user/anaconda3/envs/python3/lib/python3.6/site-packages (from distributed>=1.24.2->featuretools) (0.5.6)\n",
      "Requirement already satisfied: tornado>=4.5.1 in /home/ec2-user/anaconda3/envs/python3/lib/python3.6/site-packages (from distributed>=1.24.2->featuretools) (5.0.2)\n",
      "Requirement already satisfied: sortedcontainers!=2.0.0,!=2.0.1 in /home/ec2-user/anaconda3/envs/python3/lib/python3.6/site-packages (from distributed>=1.24.2->featuretools) (1.5.10)\n",
      "Requirement already satisfied: bz2file in /home/ec2-user/anaconda3/envs/python3/lib/python3.6/site-packages (from smart-open>=1.7.1->featuretools) (0.98)\n",
      "Requirement already satisfied: requests in /home/ec2-user/anaconda3/envs/python3/lib/python3.6/site-packages (from smart-open>=1.7.1->featuretools) (2.20.1)\n",
      "Requirement already satisfied: boto>=2.32 in /home/ec2-user/anaconda3/envs/python3/lib/python3.6/site-packages (from smart-open>=1.7.1->featuretools) (2.48.0)\n",
      "Requirement already satisfied: jmespath<1.0.0,>=0.7.1 in /home/ec2-user/anaconda3/envs/python3/lib/python3.6/site-packages (from botocore>=1.12.51->featuretools) (0.9.3)\n",
      "Requirement already satisfied: docutils>=0.10 in /home/ec2-user/anaconda3/envs/python3/lib/python3.6/site-packages (from botocore>=1.12.51->featuretools) (0.14)\n",
      "Requirement already satisfied: urllib3<1.25,>=1.20; python_version >= \"3.4\" in /home/ec2-user/anaconda3/envs/python3/lib/python3.6/site-packages (from botocore>=1.12.51->featuretools) (1.22)\n",
      "Requirement already satisfied: s3transfer<0.2.0,>=0.1.10 in /home/ec2-user/anaconda3/envs/python3/lib/python3.6/site-packages (from boto3>=1.9.51->featuretools) (0.1.13)\n",
      "Requirement already satisfied: heapdict in /home/ec2-user/anaconda3/envs/python3/lib/python3.6/site-packages (from zict>=0.1.3->distributed>=1.24.2->featuretools) (1.0.0)\n",
      "Requirement already satisfied: chardet<3.1.0,>=3.0.2 in /home/ec2-user/anaconda3/envs/python3/lib/python3.6/site-packages (from requests->smart-open>=1.7.1->featuretools) (3.0.4)\n",
      "Requirement already satisfied: idna<2.8,>=2.5 in /home/ec2-user/anaconda3/envs/python3/lib/python3.6/site-packages (from requests->smart-open>=1.7.1->featuretools) (2.6)\n",
      "Requirement already satisfied: certifi>=2017.4.17 in /home/ec2-user/anaconda3/envs/python3/lib/python3.6/site-packages (from requests->smart-open>=1.7.1->featuretools) (2018.8.24)\n",
      "\u001b[33mYou are using pip version 10.0.1, however version 18.1 is available.\n",
      "You should consider upgrading via the 'pip install --upgrade pip' command.\u001b[0m\n"
     ]
    }
   ],
   "source": [
    "!pip install featuretools"
   ]
  },
  {
   "cell_type": "code",
   "execution_count": 6,
   "metadata": {},
   "outputs": [],
   "source": [
    "# データの読み込み\n",
    "import pandas as pd\n",
    "\n",
    "items = pd.read_csv('/home/ec2-user/SageMaker/work/work_20190105/machinelearning/time_analysis/data/kaggle/ts/items.csv')\n",
    "cats = pd.read_csv('/home/ec2-user/SageMaker/work/work_20190105/machinelearning/time_analysis/data/kaggle/ts/item_categories.csv')\n",
    "train = pd.read_csv('/home/ec2-user/SageMaker/work/work_20190105/machinelearning/time_analysis/data/kaggle/ts/sales_train.csv.gz', compression='gzip')"
   ]
  },
  {
   "cell_type": "code",
   "execution_count": 7,
   "metadata": {},
   "outputs": [],
   "source": [
    "# 検証用に「cats」Entityに列を追加\n",
    "# faturetoolsで、trainに紐づいた時にこの「cats」Entityの列も特徴量生成に利用されるかの確認をする。\n",
    "# 適当に、「商品カテゴリごとにMAXの販売価格」を意識して列を追加しておく\n",
    "\n",
    "from numpy.random import randint\n",
    "\n",
    "cats['price_max'] = randint(low=100, high=2000, size=len(cats))"
   ]
  },
  {
   "cell_type": "markdown",
   "metadata": {},
   "source": [
    "# Entity Setとして取り込み\n",
    "下記を参考。\n",
    "\n",
    "[Representing Data with EntitySets](https://docs.featuretools.com/loading_data/using_entitysets.html)  \n",
    "[entity_from_dataframe](https://docs.featuretools.com/generated/featuretools.EntitySet.entity_from_dataframe.html#featuretools.EntitySet.entity_from_dataframe)\n"
   ]
  },
  {
   "cell_type": "code",
   "execution_count": 8,
   "metadata": {},
   "outputs": [
    {
     "name": "stdout",
     "output_type": "stream",
     "text": [
      "ft_version:0.5.1\n",
      "CPU times: user 3min 34s, sys: 206 ms, total: 3min 35s\n",
      "Wall time: 3min 39s\n"
     ]
    }
   ],
   "source": [
    "%%time\n",
    "\n",
    "import featuretools as ft\n",
    "print('ft_version:{}'.format(ft.__version__))\n",
    "\n",
    "# Entity Setを作成\n",
    "es = ft.EntitySet(id='entityset') # RDBで言う所のスキーマ\n",
    "\n",
    "# Entityの追加(RDBで言う所のテーブル)\n",
    "es = es.entity_from_dataframe(entity_id=\"items\",# テーブル名のようなもの\n",
    "                              dataframe=items,# 読み込み対象のDF\n",
    "                              index=\"item_id\",# RDBのテーブルで言うところの主キー（なので、一意にならないとダメ）。\n",
    "                              variable_types={\"item_category_id\": ft.variable_types.Id} # IDとして扱う\n",
    "                             )\n",
    "\n",
    "es = es.entity_from_dataframe(entity_id=\"cats\",\n",
    "                              dataframe=cats,\n",
    "                              index=\"item_category_id\"\n",
    "                             )\n",
    "\n",
    "es = es.entity_from_dataframe(entity_id=\"train\",\n",
    "                              dataframe=train,\n",
    "                              index = 'train_index', # 新しく作るインデックスの名前を指定\n",
    "                              make_index=True, # 複合主キーが作れない仕様なので、新しくキーを作成する。\n",
    "                              variable_types={\"shop_id\": ft.variable_types.Id,\n",
    "                                              \"item_id\": ft.variable_types.Id\n",
    "                                             }\n",
    "                             )\n",
    "\n",
    "es"
   ]
  },
  {
   "cell_type": "markdown",
   "metadata": {},
   "source": [
    "# Entityの関係性と作成する特徴量を定義\n",
    "\n",
    ">we specify how the entities are related.\n",
    "When two entities have a one-to-many relationship, we call the “one” enitity, the “parent entity”. \n",
    "A relationship between a parent and child is defined like this:\n",
    "\n",
    "[引用元](https://docs.featuretools.com/index.html)\n"
   ]
  },
  {
   "cell_type": "code",
   "execution_count": 9,
   "metadata": {},
   "outputs": [],
   "source": [
    "# 関係性の定義\n",
    "relationship_items_train = ft.Relationship(parent_variable= es[\"items\"][\"item_id\"] # 親entityを指定（結合キーが重複しない）。マスターテーブルのようなイメージ。\n",
    "                                   ,child_variable=es[\"train\"][\"item_id\"] # 子entityを指定（結合キーが重複しても良い）。トランザクションテーブルのようなイメージ。\n",
    "                                  ) \n",
    "relationship_cats_items = ft.Relationship(parent_variable= es[\"cats\"][\"item_category_id\"]\n",
    "                                   ,child_variable=es[\"items\"][\"item_category_id\"]\n",
    "                                  ) \n",
    "\n",
    "# 関係性を認識する\n",
    "es = es.add_relationship(relationship_items_train)\n",
    "es = es.add_relationship(relationship_cats_items)\n",
    "\n",
    "# どんな特徴量を生成するか。この引数を指定しなければ、デフォルトだともっと色々な特徴量も生成できる\n",
    "agg_primitives = [\"sum\", \"max\",\"min\",\"count\"] # 集計系\n",
    "trans_primitives = [\"day\", \"year\",\"month\",\"weekday\"] # 変換系"
   ]
  },
  {
   "cell_type": "markdown",
   "metadata": {},
   "source": [
    "# Run Deep Feature Synthesis\n",
    "\n",
    "特徴量生成!\n",
    "https://docs.featuretools.com/index.html#run-deep-feature-synthesis  \n",
    "[dfs](https://docs.featuretools.com/generated/featuretools.dfs.html)"
   ]
  },
  {
   "cell_type": "markdown",
   "metadata": {},
   "source": [
    "# 特徴量生成"
   ]
  },
  {
   "cell_type": "code",
   "execution_count": 10,
   "metadata": {},
   "outputs": [
    {
     "name": "stdout",
     "output_type": "stream",
     "text": [
      "Built 23 features\n",
      "Elapsed: 01:06 | Remaining: 00:00 | Progress: 100%|██████████| Calculated: 11/11 chunks\n",
      "shape:(2935849, 23)\n",
      "             date_block_num  item_price  item_cnt_day  shop_id  item_id  \\\n",
      "train_index                                                               \n",
      "2039206                  21       999.0           1.0       25    19500   \n",
      "1124720                  11       149.0           1.0       25    18721   \n",
      "1556871                  15       224.0           1.0       58     6108   \n",
      "789028                    7       749.0           1.0       24    16533   \n",
      "293247                    2       449.0           1.0        7     3223   \n",
      "\n",
      "             DAY(date)  YEAR(date)  MONTH(date)  WEEKDAY(date)  \\\n",
      "train_index                                                      \n",
      "2039206             10        2014            2              0   \n",
      "1124720             27        2013           12              4   \n",
      "1556871              4        2014            5              6   \n",
      "789028              24        2013            8              5   \n",
      "293247              24        2013            3              6   \n",
      "\n",
      "                                               items.item_name  \\\n",
      "train_index                                                      \n",
      "2039206               Сумка для шоппинга Coldplay Logo On Blue   \n",
      "1124720                   СКАЗКИ РУССКИХ ПИСАТЕЛЕЙ №1 (Регион)   \n",
      "1556871      Red Orchestra 2: Rising Storm [PC, Jewel, русс...   \n",
      "789028                              ОЗ: ВЕЛИКИЙ И УЖАСНЫЙ (BD)   \n",
      "293247       Euro Truck Simulator 2: С грузом по Европе 3 [...   \n",
      "\n",
      "                     ...           items.SUM(train.item_cnt_day)  \\\n",
      "train_index          ...                                           \n",
      "2039206              ...                                    17.0   \n",
      "1124720              ...                                   603.0   \n",
      "1556871              ...                                   570.0   \n",
      "789028               ...                                   291.0   \n",
      "293247               ...                                   876.0   \n",
      "\n",
      "             items.MAX(train.date_block_num)  items.MAX(train.item_price)  \\\n",
      "train_index                                                                 \n",
      "2039206                                   33                       1199.0   \n",
      "1124720                                   32                        169.0   \n",
      "1556871                                   33                        449.0   \n",
      "789028                                    32                        749.0   \n",
      "293247                                    17                        449.0   \n",
      "\n",
      "             items.MAX(train.item_cnt_day)  items.MIN(train.date_block_num)  \\\n",
      "train_index                                                                   \n",
      "2039206                                1.0                               17   \n",
      "1124720                                2.0                                0   \n",
      "1556871                                5.0                                5   \n",
      "789028                                 3.0                                7   \n",
      "293247                                 5.0                                0   \n",
      "\n",
      "             items.MIN(train.item_price)  items.MIN(train.item_cnt_day)  \\\n",
      "train_index                                                               \n",
      "2039206                            799.0                            1.0   \n",
      "1124720                             58.0                            1.0   \n",
      "1556871                             77.6                            1.0   \n",
      "789028                             298.0                            1.0   \n",
      "293247                             263.0                           -1.0   \n",
      "\n",
      "             items.COUNT(train)  items.cats.item_category_name  \\\n",
      "train_index                                                      \n",
      "2039206                      17           Подарки - Атрибутика   \n",
      "1124720                     597                     Кино - DVD   \n",
      "1556871                     535  Игры PC - Стандартные издания   \n",
      "789028                      271                 Кино - Blu-Ray   \n",
      "293247                      828  Игры PC - Стандартные издания   \n",
      "\n",
      "             items.cats.price_max  \n",
      "train_index                        \n",
      "2039206                       278  \n",
      "1124720                       877  \n",
      "1556871                      1406  \n",
      "789028                        719  \n",
      "293247                       1406  \n",
      "\n",
      "[5 rows x 23 columns]\n",
      "CPU times: user 1min 2s, sys: 10 s, total: 1min 12s\n",
      "Wall time: 1min 12s\n"
     ]
    }
   ],
   "source": [
    "%%time\n",
    "\n",
    "# 特徴量生成\n",
    "# https://docs.featuretools.com/generated/featuretools.dfs.html\n",
    "feature_matrix, features_defs = ft.dfs(entityset=es,\n",
    "                                       target_entity=\"train\",\n",
    "                                       agg_primitives=agg_primitives, # Default: [“sum”, “std”, “max”, “skew”, “min”, “mean”, “count”, “percent_true”, “n_unique”, “mode”]\n",
    "                                       trans_primitives=trans_primitives, # Default: [“day”, “year”, “month”, “weekday”, “haversine”, “num_words”, “num_characters”]\n",
    "                                       max_depth=2,\n",
    "                                       verbose=True\n",
    "                                      )\n",
    "\n",
    "print('shape:{}'.format(feature_matrix.shape))\n",
    "print(feature_matrix.sample(5))"
   ]
  },
  {
   "cell_type": "code",
   "execution_count": 11,
   "metadata": {},
   "outputs": [
    {
     "data": {
      "text/html": [
       "<div>\n",
       "<style scoped>\n",
       "    .dataframe tbody tr th:only-of-type {\n",
       "        vertical-align: middle;\n",
       "    }\n",
       "\n",
       "    .dataframe tbody tr th {\n",
       "        vertical-align: top;\n",
       "    }\n",
       "\n",
       "    .dataframe thead th {\n",
       "        text-align: right;\n",
       "    }\n",
       "</style>\n",
       "<table border=\"1\" class=\"dataframe\">\n",
       "  <thead>\n",
       "    <tr style=\"text-align: right;\">\n",
       "      <th></th>\n",
       "      <th>date_block_num</th>\n",
       "      <th>item_price</th>\n",
       "      <th>item_cnt_day</th>\n",
       "      <th>shop_id</th>\n",
       "      <th>item_id</th>\n",
       "      <th>DAY(date)</th>\n",
       "      <th>YEAR(date)</th>\n",
       "      <th>MONTH(date)</th>\n",
       "      <th>WEEKDAY(date)</th>\n",
       "      <th>items.item_name</th>\n",
       "      <th>...</th>\n",
       "      <th>items.SUM(train.item_cnt_day)</th>\n",
       "      <th>items.MAX(train.date_block_num)</th>\n",
       "      <th>items.MAX(train.item_price)</th>\n",
       "      <th>items.MAX(train.item_cnt_day)</th>\n",
       "      <th>items.MIN(train.date_block_num)</th>\n",
       "      <th>items.MIN(train.item_price)</th>\n",
       "      <th>items.MIN(train.item_cnt_day)</th>\n",
       "      <th>items.COUNT(train)</th>\n",
       "      <th>items.cats.item_category_name</th>\n",
       "      <th>items.cats.price_max</th>\n",
       "    </tr>\n",
       "    <tr>\n",
       "      <th>train_index</th>\n",
       "      <th></th>\n",
       "      <th></th>\n",
       "      <th></th>\n",
       "      <th></th>\n",
       "      <th></th>\n",
       "      <th></th>\n",
       "      <th></th>\n",
       "      <th></th>\n",
       "      <th></th>\n",
       "      <th></th>\n",
       "      <th></th>\n",
       "      <th></th>\n",
       "      <th></th>\n",
       "      <th></th>\n",
       "      <th></th>\n",
       "      <th></th>\n",
       "      <th></th>\n",
       "      <th></th>\n",
       "      <th></th>\n",
       "      <th></th>\n",
       "      <th></th>\n",
       "    </tr>\n",
       "  </thead>\n",
       "  <tbody>\n",
       "    <tr>\n",
       "      <th>0</th>\n",
       "      <td>0</td>\n",
       "      <td>999.00</td>\n",
       "      <td>1.0</td>\n",
       "      <td>59</td>\n",
       "      <td>22154</td>\n",
       "      <td>1</td>\n",
       "      <td>2013</td>\n",
       "      <td>2</td>\n",
       "      <td>4</td>\n",
       "      <td>ЯВЛЕНИЕ 2012 (BD)</td>\n",
       "      <td>...</td>\n",
       "      <td>59.0</td>\n",
       "      <td>33</td>\n",
       "      <td>999.00</td>\n",
       "      <td>1.0</td>\n",
       "      <td>0</td>\n",
       "      <td>299.00</td>\n",
       "      <td>1.0</td>\n",
       "      <td>59</td>\n",
       "      <td>Кино - Blu-Ray</td>\n",
       "      <td>719</td>\n",
       "    </tr>\n",
       "    <tr>\n",
       "      <th>1</th>\n",
       "      <td>0</td>\n",
       "      <td>899.00</td>\n",
       "      <td>1.0</td>\n",
       "      <td>25</td>\n",
       "      <td>2552</td>\n",
       "      <td>1</td>\n",
       "      <td>2013</td>\n",
       "      <td>3</td>\n",
       "      <td>4</td>\n",
       "      <td>DEEP PURPLE  The House Of Blue Light  LP</td>\n",
       "      <td>...</td>\n",
       "      <td>5.0</td>\n",
       "      <td>28</td>\n",
       "      <td>949.00</td>\n",
       "      <td>1.0</td>\n",
       "      <td>0</td>\n",
       "      <td>899.00</td>\n",
       "      <td>-1.0</td>\n",
       "      <td>9</td>\n",
       "      <td>Музыка - Винил</td>\n",
       "      <td>1055</td>\n",
       "    </tr>\n",
       "    <tr>\n",
       "      <th>2</th>\n",
       "      <td>0</td>\n",
       "      <td>899.00</td>\n",
       "      <td>-1.0</td>\n",
       "      <td>25</td>\n",
       "      <td>2552</td>\n",
       "      <td>1</td>\n",
       "      <td>2013</td>\n",
       "      <td>5</td>\n",
       "      <td>2</td>\n",
       "      <td>DEEP PURPLE  The House Of Blue Light  LP</td>\n",
       "      <td>...</td>\n",
       "      <td>5.0</td>\n",
       "      <td>28</td>\n",
       "      <td>949.00</td>\n",
       "      <td>1.0</td>\n",
       "      <td>0</td>\n",
       "      <td>899.00</td>\n",
       "      <td>-1.0</td>\n",
       "      <td>9</td>\n",
       "      <td>Музыка - Винил</td>\n",
       "      <td>1055</td>\n",
       "    </tr>\n",
       "    <tr>\n",
       "      <th>3</th>\n",
       "      <td>0</td>\n",
       "      <td>1709.05</td>\n",
       "      <td>1.0</td>\n",
       "      <td>25</td>\n",
       "      <td>2554</td>\n",
       "      <td>1</td>\n",
       "      <td>2013</td>\n",
       "      <td>6</td>\n",
       "      <td>5</td>\n",
       "      <td>DEEP PURPLE  Who Do You Think We Are  LP</td>\n",
       "      <td>...</td>\n",
       "      <td>1.0</td>\n",
       "      <td>0</td>\n",
       "      <td>1709.05</td>\n",
       "      <td>1.0</td>\n",
       "      <td>0</td>\n",
       "      <td>1709.05</td>\n",
       "      <td>1.0</td>\n",
       "      <td>1</td>\n",
       "      <td>Музыка - Винил</td>\n",
       "      <td>1055</td>\n",
       "    </tr>\n",
       "    <tr>\n",
       "      <th>4</th>\n",
       "      <td>0</td>\n",
       "      <td>1099.00</td>\n",
       "      <td>1.0</td>\n",
       "      <td>25</td>\n",
       "      <td>2555</td>\n",
       "      <td>15</td>\n",
       "      <td>2013</td>\n",
       "      <td>1</td>\n",
       "      <td>1</td>\n",
       "      <td>DEEP PURPLE 30 Very Best Of 2CD (Фирм.)</td>\n",
       "      <td>...</td>\n",
       "      <td>56.0</td>\n",
       "      <td>21</td>\n",
       "      <td>1149.00</td>\n",
       "      <td>1.0</td>\n",
       "      <td>0</td>\n",
       "      <td>1098.70</td>\n",
       "      <td>1.0</td>\n",
       "      <td>56</td>\n",
       "      <td>Музыка - CD фирменного производства</td>\n",
       "      <td>1729</td>\n",
       "    </tr>\n",
       "  </tbody>\n",
       "</table>\n",
       "<p>5 rows × 23 columns</p>\n",
       "</div>"
      ],
      "text/plain": [
       "             date_block_num  item_price  item_cnt_day  shop_id  item_id  \\\n",
       "train_index                                                               \n",
       "0                         0      999.00           1.0       59    22154   \n",
       "1                         0      899.00           1.0       25     2552   \n",
       "2                         0      899.00          -1.0       25     2552   \n",
       "3                         0     1709.05           1.0       25     2554   \n",
       "4                         0     1099.00           1.0       25     2555   \n",
       "\n",
       "             DAY(date)  YEAR(date)  MONTH(date)  WEEKDAY(date)  \\\n",
       "train_index                                                      \n",
       "0                    1        2013            2              4   \n",
       "1                    1        2013            3              4   \n",
       "2                    1        2013            5              2   \n",
       "3                    1        2013            6              5   \n",
       "4                   15        2013            1              1   \n",
       "\n",
       "                                      items.item_name          ...           \\\n",
       "train_index                                                    ...            \n",
       "0                                   ЯВЛЕНИЕ 2012 (BD)          ...            \n",
       "1            DEEP PURPLE  The House Of Blue Light  LP          ...            \n",
       "2            DEEP PURPLE  The House Of Blue Light  LP          ...            \n",
       "3            DEEP PURPLE  Who Do You Think We Are  LP          ...            \n",
       "4             DEEP PURPLE 30 Very Best Of 2CD (Фирм.)          ...            \n",
       "\n",
       "             items.SUM(train.item_cnt_day)  items.MAX(train.date_block_num)  \\\n",
       "train_index                                                                   \n",
       "0                                     59.0                               33   \n",
       "1                                      5.0                               28   \n",
       "2                                      5.0                               28   \n",
       "3                                      1.0                                0   \n",
       "4                                     56.0                               21   \n",
       "\n",
       "             items.MAX(train.item_price)  items.MAX(train.item_cnt_day)  \\\n",
       "train_index                                                               \n",
       "0                                 999.00                            1.0   \n",
       "1                                 949.00                            1.0   \n",
       "2                                 949.00                            1.0   \n",
       "3                                1709.05                            1.0   \n",
       "4                                1149.00                            1.0   \n",
       "\n",
       "             items.MIN(train.date_block_num)  items.MIN(train.item_price)  \\\n",
       "train_index                                                                 \n",
       "0                                          0                       299.00   \n",
       "1                                          0                       899.00   \n",
       "2                                          0                       899.00   \n",
       "3                                          0                      1709.05   \n",
       "4                                          0                      1098.70   \n",
       "\n",
       "             items.MIN(train.item_cnt_day)  items.COUNT(train)  \\\n",
       "train_index                                                      \n",
       "0                                      1.0                  59   \n",
       "1                                     -1.0                   9   \n",
       "2                                     -1.0                   9   \n",
       "3                                      1.0                   1   \n",
       "4                                      1.0                  56   \n",
       "\n",
       "                   items.cats.item_category_name  items.cats.price_max  \n",
       "train_index                                                             \n",
       "0                                 Кино - Blu-Ray                   719  \n",
       "1                                 Музыка - Винил                  1055  \n",
       "2                                 Музыка - Винил                  1055  \n",
       "3                                 Музыка - Винил                  1055  \n",
       "4            Музыка - CD фирменного производства                  1729  \n",
       "\n",
       "[5 rows x 23 columns]"
      ]
     },
     "execution_count": 11,
     "metadata": {},
     "output_type": "execute_result"
    }
   ],
   "source": [
    "feature_matrix.head()"
   ]
  },
  {
   "cell_type": "markdown",
   "metadata": {},
   "source": [
    "# 2.特徴量選択\n",
    "[boruta](https://github.com/scikit-learn-contrib/boruta_py)をINSTALLL  \n",
    "なお、「boruta」はそのアルゴリズムの性質から、「変数重要度」がわかるアルゴリズムにしか適用できない点に注意  \n",
    "\n",
    "「boruta」のアルゴリズム概要については、[こちら](https://aotamasaki.hatenablog.com/entry/2019/01/05/195813)を参照しよう。わかりやすい。  \n",
    "\n",
    "### 注意点\n",
    "「featuretools」を使って、「カテゴリ型変数」とかを引っ張ってきちゃうと、「boruta」では扱えないのでエラーになるよ。  \n",
    "one-hot-encodingするか、もしくは対象カラムを削除しよう。  "
   ]
  },
  {
   "cell_type": "code",
   "execution_count": 12,
   "metadata": {},
   "outputs": [
    {
     "name": "stdout",
     "output_type": "stream",
     "text": [
      "Collecting pip\n",
      "\u001b[?25l  Downloading https://files.pythonhosted.org/packages/c2/d7/90f34cb0d83a6c5631cf71dfe64cc1054598c843a92b400e55675cc2ac37/pip-18.1-py2.py3-none-any.whl (1.3MB)\n",
      "\u001b[K    100% |████████████████████████████████| 1.3MB 23.8MB/s \n",
      "\u001b[?25hInstalling collected packages: pip\n",
      "  Found existing installation: pip 10.0.1\n",
      "    Uninstalling pip-10.0.1:\n",
      "      Successfully uninstalled pip-10.0.1\n",
      "Successfully installed pip-18.1\n",
      "Collecting boruta\n",
      "\u001b[?25l  Downloading https://files.pythonhosted.org/packages/35/03/ca2b7e352bf1f0e2dd0e17e1b8c92f75dbb9f218d36eba4e894efa2a0478/Boruta-0.1.5.tar.gz (55kB)\n",
      "\u001b[K    100% |████████████████████████████████| 61kB 26.2MB/s \n",
      "\u001b[?25hRequirement already satisfied: numpy>=1.10.4 in /home/ec2-user/anaconda3/envs/python3/lib/python3.6/site-packages (from boruta) (1.14.5)\n",
      "Requirement already satisfied: scikit-learn>=0.17.1 in /home/ec2-user/anaconda3/envs/python3/lib/python3.6/site-packages (from boruta) (0.20.2)\n",
      "Requirement already satisfied: scipy>=0.17.0 in /home/ec2-user/anaconda3/envs/python3/lib/python3.6/site-packages (from boruta) (1.1.0)\n",
      "Building wheels for collected packages: boruta\n",
      "  Running setup.py bdist_wheel for boruta ... \u001b[?25ldone\n",
      "\u001b[?25h  Stored in directory: /home/ec2-user/.cache/pip/wheels/5c/5a/72/13e8ea10ba10e22e9ca7f76f8b451c9f98fa190d428c8857dd\n",
      "Successfully built boruta\n",
      "Installing collected packages: boruta\n",
      "Successfully installed boruta-0.1.5\n"
     ]
    }
   ],
   "source": [
    "!pip install --upgrade pip\n",
    "!pip install boruta"
   ]
  },
  {
   "cell_type": "markdown",
   "metadata": {},
   "source": [
    "# 学習前のデータの準備"
   ]
  },
  {
   "cell_type": "code",
   "execution_count": 13,
   "metadata": {},
   "outputs": [],
   "source": [
    "import pandas as pd\n",
    "\n",
    "X_train = feature_matrix[feature_matrix.date_block_num < 33].drop(['item_cnt_day'], axis=1)\n",
    "Y_train = feature_matrix[feature_matrix.date_block_num < 33]['item_cnt_day']\n",
    "X_valid = feature_matrix[feature_matrix.date_block_num == 33].drop(['item_cnt_day'], axis=1)\n",
    "Y_valid = feature_matrix[feature_matrix.date_block_num == 33]['item_cnt_day']"
   ]
  },
  {
   "cell_type": "code",
   "execution_count": 14,
   "metadata": {},
   "outputs": [
    {
     "name": "stdout",
     "output_type": "stream",
     "text": [
      "(2882335, 22)\n",
      "(2882335,)\n",
      "(53514, 22)\n",
      "(53514,)\n"
     ]
    }
   ],
   "source": [
    "print(X_train.shape)\n",
    "print(Y_train.shape)\n",
    "print(X_valid.shape)\n",
    "print(Y_valid.shape)"
   ]
  },
  {
   "cell_type": "code",
   "execution_count": 15,
   "metadata": {},
   "outputs": [
    {
     "data": {
      "text/html": [
       "<div>\n",
       "<style scoped>\n",
       "    .dataframe tbody tr th:only-of-type {\n",
       "        vertical-align: middle;\n",
       "    }\n",
       "\n",
       "    .dataframe tbody tr th {\n",
       "        vertical-align: top;\n",
       "    }\n",
       "\n",
       "    .dataframe thead th {\n",
       "        text-align: right;\n",
       "    }\n",
       "</style>\n",
       "<table border=\"1\" class=\"dataframe\">\n",
       "  <thead>\n",
       "    <tr style=\"text-align: right;\">\n",
       "      <th></th>\n",
       "      <th>date_block_num</th>\n",
       "      <th>item_price</th>\n",
       "      <th>shop_id</th>\n",
       "      <th>item_id</th>\n",
       "      <th>DAY(date)</th>\n",
       "      <th>YEAR(date)</th>\n",
       "      <th>MONTH(date)</th>\n",
       "      <th>WEEKDAY(date)</th>\n",
       "      <th>items.item_name</th>\n",
       "      <th>items.item_category_id</th>\n",
       "      <th>...</th>\n",
       "      <th>items.SUM(train.item_cnt_day)</th>\n",
       "      <th>items.MAX(train.date_block_num)</th>\n",
       "      <th>items.MAX(train.item_price)</th>\n",
       "      <th>items.MAX(train.item_cnt_day)</th>\n",
       "      <th>items.MIN(train.date_block_num)</th>\n",
       "      <th>items.MIN(train.item_price)</th>\n",
       "      <th>items.MIN(train.item_cnt_day)</th>\n",
       "      <th>items.COUNT(train)</th>\n",
       "      <th>items.cats.item_category_name</th>\n",
       "      <th>items.cats.price_max</th>\n",
       "    </tr>\n",
       "    <tr>\n",
       "      <th>train_index</th>\n",
       "      <th></th>\n",
       "      <th></th>\n",
       "      <th></th>\n",
       "      <th></th>\n",
       "      <th></th>\n",
       "      <th></th>\n",
       "      <th></th>\n",
       "      <th></th>\n",
       "      <th></th>\n",
       "      <th></th>\n",
       "      <th></th>\n",
       "      <th></th>\n",
       "      <th></th>\n",
       "      <th></th>\n",
       "      <th></th>\n",
       "      <th></th>\n",
       "      <th></th>\n",
       "      <th></th>\n",
       "      <th></th>\n",
       "      <th></th>\n",
       "      <th></th>\n",
       "    </tr>\n",
       "  </thead>\n",
       "  <tbody>\n",
       "    <tr>\n",
       "      <th>0</th>\n",
       "      <td>0</td>\n",
       "      <td>999.00</td>\n",
       "      <td>59</td>\n",
       "      <td>22154</td>\n",
       "      <td>1</td>\n",
       "      <td>2013</td>\n",
       "      <td>2</td>\n",
       "      <td>4</td>\n",
       "      <td>ЯВЛЕНИЕ 2012 (BD)</td>\n",
       "      <td>37</td>\n",
       "      <td>...</td>\n",
       "      <td>59.0</td>\n",
       "      <td>33</td>\n",
       "      <td>999.00</td>\n",
       "      <td>1.0</td>\n",
       "      <td>0</td>\n",
       "      <td>299.00</td>\n",
       "      <td>1.0</td>\n",
       "      <td>59</td>\n",
       "      <td>Кино - Blu-Ray</td>\n",
       "      <td>719</td>\n",
       "    </tr>\n",
       "    <tr>\n",
       "      <th>1</th>\n",
       "      <td>0</td>\n",
       "      <td>899.00</td>\n",
       "      <td>25</td>\n",
       "      <td>2552</td>\n",
       "      <td>1</td>\n",
       "      <td>2013</td>\n",
       "      <td>3</td>\n",
       "      <td>4</td>\n",
       "      <td>DEEP PURPLE  The House Of Blue Light  LP</td>\n",
       "      <td>58</td>\n",
       "      <td>...</td>\n",
       "      <td>5.0</td>\n",
       "      <td>28</td>\n",
       "      <td>949.00</td>\n",
       "      <td>1.0</td>\n",
       "      <td>0</td>\n",
       "      <td>899.00</td>\n",
       "      <td>-1.0</td>\n",
       "      <td>9</td>\n",
       "      <td>Музыка - Винил</td>\n",
       "      <td>1055</td>\n",
       "    </tr>\n",
       "    <tr>\n",
       "      <th>2</th>\n",
       "      <td>0</td>\n",
       "      <td>899.00</td>\n",
       "      <td>25</td>\n",
       "      <td>2552</td>\n",
       "      <td>1</td>\n",
       "      <td>2013</td>\n",
       "      <td>5</td>\n",
       "      <td>2</td>\n",
       "      <td>DEEP PURPLE  The House Of Blue Light  LP</td>\n",
       "      <td>58</td>\n",
       "      <td>...</td>\n",
       "      <td>5.0</td>\n",
       "      <td>28</td>\n",
       "      <td>949.00</td>\n",
       "      <td>1.0</td>\n",
       "      <td>0</td>\n",
       "      <td>899.00</td>\n",
       "      <td>-1.0</td>\n",
       "      <td>9</td>\n",
       "      <td>Музыка - Винил</td>\n",
       "      <td>1055</td>\n",
       "    </tr>\n",
       "    <tr>\n",
       "      <th>3</th>\n",
       "      <td>0</td>\n",
       "      <td>1709.05</td>\n",
       "      <td>25</td>\n",
       "      <td>2554</td>\n",
       "      <td>1</td>\n",
       "      <td>2013</td>\n",
       "      <td>6</td>\n",
       "      <td>5</td>\n",
       "      <td>DEEP PURPLE  Who Do You Think We Are  LP</td>\n",
       "      <td>58</td>\n",
       "      <td>...</td>\n",
       "      <td>1.0</td>\n",
       "      <td>0</td>\n",
       "      <td>1709.05</td>\n",
       "      <td>1.0</td>\n",
       "      <td>0</td>\n",
       "      <td>1709.05</td>\n",
       "      <td>1.0</td>\n",
       "      <td>1</td>\n",
       "      <td>Музыка - Винил</td>\n",
       "      <td>1055</td>\n",
       "    </tr>\n",
       "    <tr>\n",
       "      <th>4</th>\n",
       "      <td>0</td>\n",
       "      <td>1099.00</td>\n",
       "      <td>25</td>\n",
       "      <td>2555</td>\n",
       "      <td>15</td>\n",
       "      <td>2013</td>\n",
       "      <td>1</td>\n",
       "      <td>1</td>\n",
       "      <td>DEEP PURPLE 30 Very Best Of 2CD (Фирм.)</td>\n",
       "      <td>56</td>\n",
       "      <td>...</td>\n",
       "      <td>56.0</td>\n",
       "      <td>21</td>\n",
       "      <td>1149.00</td>\n",
       "      <td>1.0</td>\n",
       "      <td>0</td>\n",
       "      <td>1098.70</td>\n",
       "      <td>1.0</td>\n",
       "      <td>56</td>\n",
       "      <td>Музыка - CD фирменного производства</td>\n",
       "      <td>1729</td>\n",
       "    </tr>\n",
       "  </tbody>\n",
       "</table>\n",
       "<p>5 rows × 22 columns</p>\n",
       "</div>"
      ],
      "text/plain": [
       "             date_block_num  item_price  shop_id  item_id  DAY(date)  \\\n",
       "train_index                                                            \n",
       "0                         0      999.00       59    22154          1   \n",
       "1                         0      899.00       25     2552          1   \n",
       "2                         0      899.00       25     2552          1   \n",
       "3                         0     1709.05       25     2554          1   \n",
       "4                         0     1099.00       25     2555         15   \n",
       "\n",
       "             YEAR(date)  MONTH(date)  WEEKDAY(date)  \\\n",
       "train_index                                           \n",
       "0                  2013            2              4   \n",
       "1                  2013            3              4   \n",
       "2                  2013            5              2   \n",
       "3                  2013            6              5   \n",
       "4                  2013            1              1   \n",
       "\n",
       "                                      items.item_name  items.item_category_id  \\\n",
       "train_index                                                                     \n",
       "0                                   ЯВЛЕНИЕ 2012 (BD)                      37   \n",
       "1            DEEP PURPLE  The House Of Blue Light  LP                      58   \n",
       "2            DEEP PURPLE  The House Of Blue Light  LP                      58   \n",
       "3            DEEP PURPLE  Who Do You Think We Are  LP                      58   \n",
       "4             DEEP PURPLE 30 Very Best Of 2CD (Фирм.)                      56   \n",
       "\n",
       "                     ...           items.SUM(train.item_cnt_day)  \\\n",
       "train_index          ...                                           \n",
       "0                    ...                                    59.0   \n",
       "1                    ...                                     5.0   \n",
       "2                    ...                                     5.0   \n",
       "3                    ...                                     1.0   \n",
       "4                    ...                                    56.0   \n",
       "\n",
       "             items.MAX(train.date_block_num)  items.MAX(train.item_price)  \\\n",
       "train_index                                                                 \n",
       "0                                         33                       999.00   \n",
       "1                                         28                       949.00   \n",
       "2                                         28                       949.00   \n",
       "3                                          0                      1709.05   \n",
       "4                                         21                      1149.00   \n",
       "\n",
       "             items.MAX(train.item_cnt_day)  items.MIN(train.date_block_num)  \\\n",
       "train_index                                                                   \n",
       "0                                      1.0                                0   \n",
       "1                                      1.0                                0   \n",
       "2                                      1.0                                0   \n",
       "3                                      1.0                                0   \n",
       "4                                      1.0                                0   \n",
       "\n",
       "             items.MIN(train.item_price)  items.MIN(train.item_cnt_day)  \\\n",
       "train_index                                                               \n",
       "0                                 299.00                            1.0   \n",
       "1                                 899.00                           -1.0   \n",
       "2                                 899.00                           -1.0   \n",
       "3                                1709.05                            1.0   \n",
       "4                                1098.70                            1.0   \n",
       "\n",
       "             items.COUNT(train)        items.cats.item_category_name  \\\n",
       "train_index                                                            \n",
       "0                            59                       Кино - Blu-Ray   \n",
       "1                             9                       Музыка - Винил   \n",
       "2                             9                       Музыка - Винил   \n",
       "3                             1                       Музыка - Винил   \n",
       "4                            56  Музыка - CD фирменного производства   \n",
       "\n",
       "             items.cats.price_max  \n",
       "train_index                        \n",
       "0                             719  \n",
       "1                            1055  \n",
       "2                            1055  \n",
       "3                            1055  \n",
       "4                            1729  \n",
       "\n",
       "[5 rows x 22 columns]"
      ]
     },
     "execution_count": 15,
     "metadata": {},
     "output_type": "execute_result"
    }
   ],
   "source": [
    "X_train.head()"
   ]
  },
  {
   "cell_type": "code",
   "execution_count": 16,
   "metadata": {},
   "outputs": [
    {
     "data": {
      "text/plain": [
       "Index(['date_block_num', 'item_price', 'shop_id', 'item_id', 'DAY(date)',\n",
       "       'YEAR(date)', 'MONTH(date)', 'WEEKDAY(date)', 'items.item_name',\n",
       "       'items.item_category_id', 'items.SUM(train.date_block_num)',\n",
       "       'items.SUM(train.item_price)', 'items.SUM(train.item_cnt_day)',\n",
       "       'items.MAX(train.date_block_num)', 'items.MAX(train.item_price)',\n",
       "       'items.MAX(train.item_cnt_day)', 'items.MIN(train.date_block_num)',\n",
       "       'items.MIN(train.item_price)', 'items.MIN(train.item_cnt_day)',\n",
       "       'items.COUNT(train)', 'items.cats.item_category_name',\n",
       "       'items.cats.price_max'],\n",
       "      dtype='object')"
      ]
     },
     "execution_count": 16,
     "metadata": {},
     "output_type": "execute_result"
    }
   ],
   "source": [
    "X_train.columns"
   ]
  },
  {
   "cell_type": "code",
   "execution_count": 17,
   "metadata": {},
   "outputs": [
    {
     "name": "stdout",
     "output_type": "stream",
     "text": [
      "(2882335, 17)\n",
      "(53514, 17)\n",
      "             date_block_num  item_price  shop_id  item_id  DAY(date)  \\\n",
      "train_index                                                            \n",
      "0                         0      999.00       59    22154          1   \n",
      "1                         0      899.00       25     2552          1   \n",
      "2                         0      899.00       25     2552          1   \n",
      "3                         0     1709.05       25     2554          1   \n",
      "4                         0     1099.00       25     2555         15   \n",
      "\n",
      "             YEAR(date)  MONTH(date)  WEEKDAY(date)  items.item_category_id  \\\n",
      "train_index                                                                   \n",
      "0                  2013            2              4                      37   \n",
      "1                  2013            3              4                      58   \n",
      "2                  2013            5              2                      58   \n",
      "3                  2013            6              5                      58   \n",
      "4                  2013            1              1                      56   \n",
      "\n",
      "             items.SUM(train.date_block_num)  items.SUM(train.item_price)  \\\n",
      "train_index                                                                 \n",
      "0                                        798                     41473.00   \n",
      "1                                         65                      8441.00   \n",
      "2                                         65                      8441.00   \n",
      "3                                          0                      1709.05   \n",
      "4                                        418                     62893.70   \n",
      "\n",
      "             items.MAX(train.date_block_num)  items.MAX(train.item_price)  \\\n",
      "train_index                                                                 \n",
      "0                                         33                       999.00   \n",
      "1                                         28                       949.00   \n",
      "2                                         28                       949.00   \n",
      "3                                          0                      1709.05   \n",
      "4                                         21                      1149.00   \n",
      "\n",
      "             items.MIN(train.date_block_num)  items.MIN(train.item_price)  \\\n",
      "train_index                                                                 \n",
      "0                                          0                       299.00   \n",
      "1                                          0                       899.00   \n",
      "2                                          0                       899.00   \n",
      "3                                          0                      1709.05   \n",
      "4                                          0                      1098.70   \n",
      "\n",
      "             items.COUNT(train)  items.cats.price_max  \n",
      "train_index                                            \n",
      "0                            59                   719  \n",
      "1                             9                  1055  \n",
      "2                             9                  1055  \n",
      "3                             1                  1055  \n",
      "4                            56                  1729  \n",
      "             date_block_num  item_price  shop_id  item_id  DAY(date)  \\\n",
      "train_index                                                            \n",
      "2882335                  33       649.0       45    13315         23   \n",
      "2882336                  33       229.0       45    13880         10   \n",
      "2882337                  33       659.0       45    13881         10   \n",
      "2882338                  33       659.0       45    13881         10   \n",
      "2882339                  33       169.0       45    13923         10   \n",
      "\n",
      "             YEAR(date)  MONTH(date)  WEEKDAY(date)  items.item_category_id  \\\n",
      "train_index                                                                   \n",
      "2882335            2015           10              4                      47   \n",
      "2882336            2015            5              6                      55   \n",
      "2882337            2015            2              1                      55   \n",
      "2882338            2015           12              3                      55   \n",
      "2882339            2015            4              4                      40   \n",
      "\n",
      "             items.SUM(train.date_block_num)  items.SUM(train.item_price)  \\\n",
      "train_index                                                                 \n",
      "2882335                                  259                      5127.00   \n",
      "2882336                                24620                    188458.17   \n",
      "2882337                                33926                   1500510.53   \n",
      "2882338                                33926                   1500510.53   \n",
      "2882339                                12856                    132564.47   \n",
      "\n",
      "             items.MAX(train.date_block_num)  items.MAX(train.item_price)  \\\n",
      "train_index                                                                 \n",
      "2882335                                   33                        649.0   \n",
      "2882336                                   33                        229.0   \n",
      "2882337                                   33                        659.0   \n",
      "2882338                                   33                        659.0   \n",
      "2882339                                   33                        169.0   \n",
      "\n",
      "             items.MIN(train.date_block_num)  items.MIN(train.item_price)  \\\n",
      "train_index                                                                 \n",
      "2882335                                   31                       584.00   \n",
      "2882336                                   21                       114.00   \n",
      "2882337                                    0                       261.47   \n",
      "2882338                                    0                       261.47   \n",
      "2882339                                    0                        71.01   \n",
      "\n",
      "             items.COUNT(train)  items.cats.price_max  \n",
      "train_index                                            \n",
      "2882335                       8                  1721  \n",
      "2882336                     893                  1682  \n",
      "2882337                    2604                  1682  \n",
      "2882338                    2604                  1682  \n",
      "2882339                     875                   877  \n"
     ]
    }
   ],
   "source": [
    "# カテゴリ変数(oheにすればOKだが),leakになりそうなカラムを外す\n",
    "\n",
    "X_train = X_train.drop(['items.item_name'], axis=1)\n",
    "X_train = X_train.drop(['items.cats.item_category_name'], axis=1)\n",
    "X_train = X_train.drop(['items.MAX(train.item_cnt_day)'], axis=1)\n",
    "X_train = X_train.drop(['items.SUM(train.item_cnt_day)'], axis=1)\n",
    "X_train = X_train.drop(['items.MIN(train.item_cnt_day)'], axis=1)\n",
    "\n",
    "X_valid = X_valid.drop(['items.item_name'], axis=1)\n",
    "X_valid = X_valid.drop(['items.cats.item_category_name'], axis=1)\n",
    "X_valid = X_valid.drop(['items.MAX(train.item_cnt_day)'], axis=1)\n",
    "X_valid = X_valid.drop(['items.SUM(train.item_cnt_day)'], axis=1)\n",
    "X_valid = X_valid.drop(['items.MIN(train.item_cnt_day)'], axis=1)\n",
    "\n",
    "print(X_train.shape)\n",
    "print(X_valid.shape)\n",
    "print(X_train.head())\n",
    "print(X_valid.head())"
   ]
  },
  {
   "cell_type": "code",
   "execution_count": 18,
   "metadata": {},
   "outputs": [
    {
     "name": "stdout",
     "output_type": "stream",
     "text": [
      "(2882335, 17)\n",
      "(53514, 17)\n"
     ]
    }
   ],
   "source": [
    "# 欠損値の含まれる行を削除\n",
    "\n",
    "X_train.dropna(how='all',inplace=True)\n",
    "X_valid.dropna(how='all',inplace=True)\n",
    "\n",
    "print(X_train.shape)\n",
    "print(X_valid.shape)"
   ]
  },
  {
   "cell_type": "markdown",
   "metadata": {},
   "source": [
    "# ベースラインの計測\n",
    "\n",
    "borutaの効果を見るために、一回ベースラインを計測する。"
   ]
  },
  {
   "cell_type": "code",
   "execution_count": 19,
   "metadata": {},
   "outputs": [
    {
     "name": "stderr",
     "output_type": "stream",
     "text": [
      "[Parallel(n_jobs=-1)]: Using backend ThreadingBackend with 4 concurrent workers.\n",
      "[Parallel(n_jobs=-1)]: Done  42 tasks      | elapsed:  1.1min\n",
      "[Parallel(n_jobs=-1)]: Done  50 out of  50 | elapsed:  1.2min finished\n",
      "[Parallel(n_jobs=4)]: Using backend ThreadingBackend with 4 concurrent workers.\n",
      "[Parallel(n_jobs=4)]: Done  42 tasks      | elapsed:    1.5s\n",
      "[Parallel(n_jobs=4)]: Done  50 out of  50 | elapsed:    1.7s finished\n",
      "[Parallel(n_jobs=4)]: Using backend ThreadingBackend with 4 concurrent workers.\n",
      "[Parallel(n_jobs=4)]: Done  42 tasks      | elapsed:    0.0s\n",
      "[Parallel(n_jobs=4)]: Done  50 out of  50 | elapsed:    0.0s finished\n"
     ]
    },
    {
     "name": "stdout",
     "output_type": "stream",
     "text": [
      "train:0.17968478871529892\n",
      "val:0.011998556354997691\n",
      "CPU times: user 4min 57s, sys: 873 ms, total: 4min 58s\n",
      "Wall time: 1min 20s\n"
     ]
    }
   ],
   "source": [
    "%%time\n",
    "\n",
    "from sklearn.ensemble import RandomForestRegressor\n",
    "\n",
    "# model\n",
    "model = RandomForestRegressor(\n",
    "    n_estimators=50\n",
    "    , criterion='mse'\n",
    "    , max_depth = 7\n",
    "    , max_features = 'sqrt' \n",
    "    , n_jobs=-1\n",
    "    , verbose=1\n",
    "    )\n",
    "\n",
    "model.fit(X_train.values, Y_train.values)\n",
    "\n",
    "# 評価指標\n",
    "print('train:{}'.format(model.score(X_train, Y_train)))\n",
    "print('val:{}'.format(model.score(X_valid, Y_valid)))"
   ]
  },
  {
   "cell_type": "markdown",
   "metadata": {},
   "source": [
    "# boruta適用前の、各特徴量の重要度"
   ]
  },
  {
   "cell_type": "code",
   "execution_count": 20,
   "metadata": {},
   "outputs": [
    {
     "name": "stdout",
     "output_type": "stream",
     "text": [
      "1   item_price   0.2205027958923571\n",
      "2   items.MAX(train.item_price)   0.10192454777143942\n",
      "3   items.SUM(train.date_block_num)   0.10129157912314703\n",
      "4   shop_id   0.09744208466216935\n",
      "5   items.COUNT(train)   0.08391596023996081\n",
      "6   date_block_num   0.0707432556168701\n",
      "7   DAY(date)   0.06655464431992658\n",
      "8   MONTH(date)   0.052352716804110744\n",
      "9   items.MIN(train.item_price)   0.0514269716006315\n",
      "10   items.item_category_id   0.03063023979757261\n",
      "11   items.SUM(train.item_price)   0.030586499761355298\n",
      "12   WEEKDAY(date)   0.024529048035699597\n",
      "13   item_id   0.02097104743573632\n",
      "14   items.MIN(train.date_block_num)   0.014429615775331882\n",
      "15   items.cats.price_max   0.013094114304054542\n",
      "16   YEAR(date)   0.010900472763055724\n",
      "17   items.MAX(train.date_block_num)   0.008704406096581272\n"
     ]
    },
    {
     "data": {
      "image/png": "[encoded data removed]",
      "text/plain": [
       "<Figure size 432x288 with 1 Axes>"
      ]
     },
     "metadata": {},
     "output_type": "display_data"
    }
   ],
   "source": [
    "#特徴量の重要度\n",
    "import matplotlib.pyplot as plt\n",
    "import numpy as np\n",
    "\n",
    "%matplotlib inline\n",
    "\n",
    "\n",
    "feature = model.feature_importances_\n",
    "\n",
    "#特徴量の重要度を上から順に出力する\n",
    "f = pd.DataFrame({'number': range(0, len(feature)),\n",
    "             'feature': feature[:]})\n",
    "f2 = f.sort_values('feature',ascending=False)\n",
    "f3 = f2.loc[:, 'number']\n",
    "\n",
    "#特徴量の名前\n",
    "label = X_train.columns[0:]\n",
    "\n",
    "#特徴量の重要度順（降順）\n",
    "indices = np.argsort(feature)[::-1]\n",
    "\n",
    "for i in range(len(feature)):\n",
    "    print(str(i + 1) + \"   \" + str(label[indices[i]]) + \"   \" + str(feature[indices[i]]))\n",
    "\n",
    "plt.title('Feature Importance')\n",
    "plt.bar(range(len(feature)),feature[indices], color='lightblue', align='center')\n",
    "plt.xticks(range(len(feature)), label[indices], rotation=90)\n",
    "plt.xlim([-1, len(feature)])\n",
    "plt.tight_layout()\n",
    "plt.show()"
   ]
  },
  {
   "cell_type": "markdown",
   "metadata": {},
   "source": [
    "# borutaを適用"
   ]
  },
  {
   "cell_type": "code",
   "execution_count": 21,
   "metadata": {},
   "outputs": [
    {
     "name": "stderr",
     "output_type": "stream",
     "text": [
      "[Parallel(n_jobs=-1)]: Using backend ThreadingBackend with 4 concurrent workers.\n",
      "[Parallel(n_jobs=-1)]: Done  42 tasks      | elapsed:  1.4min\n",
      "[Parallel(n_jobs=-1)]: Done  83 out of  83 | elapsed:  2.7min finished\n"
     ]
    },
    {
     "name": "stdout",
     "output_type": "stream",
     "text": [
      "Iteration: \t1 / 30\n",
      "Confirmed: \t0\n",
      "Tentative: \t17\n",
      "Rejected: \t0\n"
     ]
    },
    {
     "name": "stderr",
     "output_type": "stream",
     "text": [
      "[Parallel(n_jobs=-1)]: Using backend ThreadingBackend with 4 concurrent workers.\n",
      "[Parallel(n_jobs=-1)]: Done  42 tasks      | elapsed:  1.5min\n",
      "[Parallel(n_jobs=-1)]: Done  83 out of  83 | elapsed:  2.7min finished\n"
     ]
    },
    {
     "name": "stdout",
     "output_type": "stream",
     "text": [
      "Iteration: \t2 / 30\n",
      "Confirmed: \t0\n",
      "Tentative: \t17\n",
      "Rejected: \t0\n"
     ]
    },
    {
     "name": "stderr",
     "output_type": "stream",
     "text": [
      "[Parallel(n_jobs=-1)]: Using backend ThreadingBackend with 4 concurrent workers.\n",
      "[Parallel(n_jobs=-1)]: Done  42 tasks      | elapsed:  1.4min\n",
      "[Parallel(n_jobs=-1)]: Done  83 out of  83 | elapsed:  2.7min finished\n"
     ]
    },
    {
     "name": "stdout",
     "output_type": "stream",
     "text": [
      "Iteration: \t3 / 30\n",
      "Confirmed: \t0\n",
      "Tentative: \t17\n",
      "Rejected: \t0\n"
     ]
    },
    {
     "name": "stderr",
     "output_type": "stream",
     "text": [
      "[Parallel(n_jobs=-1)]: Using backend ThreadingBackend with 4 concurrent workers.\n",
      "[Parallel(n_jobs=-1)]: Done  42 tasks      | elapsed:  1.4min\n",
      "[Parallel(n_jobs=-1)]: Done  83 out of  83 | elapsed:  2.7min finished\n"
     ]
    },
    {
     "name": "stdout",
     "output_type": "stream",
     "text": [
      "Iteration: \t4 / 30\n",
      "Confirmed: \t0\n",
      "Tentative: \t17\n",
      "Rejected: \t0\n"
     ]
    },
    {
     "name": "stderr",
     "output_type": "stream",
     "text": [
      "[Parallel(n_jobs=-1)]: Using backend ThreadingBackend with 4 concurrent workers.\n",
      "[Parallel(n_jobs=-1)]: Done  42 tasks      | elapsed:  1.4min\n",
      "[Parallel(n_jobs=-1)]: Done  83 out of  83 | elapsed:  2.7min finished\n"
     ]
    },
    {
     "name": "stdout",
     "output_type": "stream",
     "text": [
      "Iteration: \t5 / 30\n",
      "Confirmed: \t0\n",
      "Tentative: \t17\n",
      "Rejected: \t0\n"
     ]
    },
    {
     "name": "stderr",
     "output_type": "stream",
     "text": [
      "[Parallel(n_jobs=-1)]: Using backend ThreadingBackend with 4 concurrent workers.\n",
      "[Parallel(n_jobs=-1)]: Done  42 tasks      | elapsed:  1.4min\n",
      "[Parallel(n_jobs=-1)]: Done  83 out of  83 | elapsed:  2.7min finished\n"
     ]
    },
    {
     "name": "stdout",
     "output_type": "stream",
     "text": [
      "Iteration: \t6 / 30\n",
      "Confirmed: \t0\n",
      "Tentative: \t17\n",
      "Rejected: \t0\n"
     ]
    },
    {
     "name": "stderr",
     "output_type": "stream",
     "text": [
      "[Parallel(n_jobs=-1)]: Using backend ThreadingBackend with 4 concurrent workers.\n",
      "[Parallel(n_jobs=-1)]: Done  42 tasks      | elapsed:  1.4min\n",
      "[Parallel(n_jobs=-1)]: Done  83 out of  83 | elapsed:  2.7min finished\n"
     ]
    },
    {
     "name": "stdout",
     "output_type": "stream",
     "text": [
      "Iteration: \t7 / 30\n",
      "Confirmed: \t0\n",
      "Tentative: \t17\n",
      "Rejected: \t0\n"
     ]
    },
    {
     "name": "stderr",
     "output_type": "stream",
     "text": [
      "[Parallel(n_jobs=-1)]: Using backend ThreadingBackend with 4 concurrent workers.\n",
      "[Parallel(n_jobs=-1)]: Done  42 tasks      | elapsed:  1.4min\n",
      "[Parallel(n_jobs=-1)]: Done  83 out of  83 | elapsed:  2.7min finished\n"
     ]
    },
    {
     "name": "stdout",
     "output_type": "stream",
     "text": [
      "Iteration: \t8 / 30\n",
      "Confirmed: \t4\n",
      "Tentative: \t8\n",
      "Rejected: \t5\n"
     ]
    },
    {
     "name": "stderr",
     "output_type": "stream",
     "text": [
      "[Parallel(n_jobs=-1)]: Using backend ThreadingBackend with 4 concurrent workers.\n",
      "[Parallel(n_jobs=-1)]: Done  42 tasks      | elapsed:  1.3min\n",
      "[Parallel(n_jobs=-1)]: Done  69 out of  69 | elapsed:  2.0min finished\n"
     ]
    },
    {
     "name": "stdout",
     "output_type": "stream",
     "text": [
      "Iteration: \t9 / 30\n",
      "Confirmed: \t4\n",
      "Tentative: \t8\n",
      "Rejected: \t5\n"
     ]
    },
    {
     "name": "stderr",
     "output_type": "stream",
     "text": [
      "[Parallel(n_jobs=-1)]: Using backend ThreadingBackend with 4 concurrent workers.\n",
      "[Parallel(n_jobs=-1)]: Done  42 tasks      | elapsed:  1.3min\n",
      "[Parallel(n_jobs=-1)]: Done  69 out of  69 | elapsed:  2.1min finished\n"
     ]
    },
    {
     "name": "stdout",
     "output_type": "stream",
     "text": [
      "Iteration: \t10 / 30\n",
      "Confirmed: \t4\n",
      "Tentative: \t8\n",
      "Rejected: \t5\n"
     ]
    },
    {
     "name": "stderr",
     "output_type": "stream",
     "text": [
      "[Parallel(n_jobs=-1)]: Using backend ThreadingBackend with 4 concurrent workers.\n",
      "[Parallel(n_jobs=-1)]: Done  42 tasks      | elapsed:  1.3min\n",
      "[Parallel(n_jobs=-1)]: Done  69 out of  69 | elapsed:  2.1min finished\n"
     ]
    },
    {
     "name": "stdout",
     "output_type": "stream",
     "text": [
      "Iteration: \t11 / 30\n",
      "Confirmed: \t4\n",
      "Tentative: \t8\n",
      "Rejected: \t5\n"
     ]
    },
    {
     "name": "stderr",
     "output_type": "stream",
     "text": [
      "[Parallel(n_jobs=-1)]: Using backend ThreadingBackend with 4 concurrent workers.\n",
      "[Parallel(n_jobs=-1)]: Done  42 tasks      | elapsed:  1.3min\n",
      "[Parallel(n_jobs=-1)]: Done  69 out of  69 | elapsed:  2.1min finished\n"
     ]
    },
    {
     "name": "stdout",
     "output_type": "stream",
     "text": [
      "Iteration: \t12 / 30\n",
      "Confirmed: \t4\n",
      "Tentative: \t7\n",
      "Rejected: \t6\n"
     ]
    },
    {
     "name": "stderr",
     "output_type": "stream",
     "text": [
      "[Parallel(n_jobs=-1)]: Using backend ThreadingBackend with 4 concurrent workers.\n",
      "[Parallel(n_jobs=-1)]: Done  42 tasks      | elapsed:  1.2min\n",
      "[Parallel(n_jobs=-1)]: Done  67 out of  67 | elapsed:  1.9min finished\n"
     ]
    },
    {
     "name": "stdout",
     "output_type": "stream",
     "text": [
      "Iteration: \t13 / 30\n",
      "Confirmed: \t4\n",
      "Tentative: \t7\n",
      "Rejected: \t6\n"
     ]
    },
    {
     "name": "stderr",
     "output_type": "stream",
     "text": [
      "[Parallel(n_jobs=-1)]: Using backend ThreadingBackend with 4 concurrent workers.\n",
      "[Parallel(n_jobs=-1)]: Done  42 tasks      | elapsed:  1.2min\n",
      "[Parallel(n_jobs=-1)]: Done  67 out of  67 | elapsed:  2.0min finished\n"
     ]
    },
    {
     "name": "stdout",
     "output_type": "stream",
     "text": [
      "Iteration: \t14 / 30\n",
      "Confirmed: \t4\n",
      "Tentative: \t7\n",
      "Rejected: \t6\n"
     ]
    },
    {
     "name": "stderr",
     "output_type": "stream",
     "text": [
      "[Parallel(n_jobs=-1)]: Using backend ThreadingBackend with 4 concurrent workers.\n",
      "[Parallel(n_jobs=-1)]: Done  42 tasks      | elapsed:  1.3min\n",
      "[Parallel(n_jobs=-1)]: Done  67 out of  67 | elapsed:  1.9min finished\n"
     ]
    },
    {
     "name": "stdout",
     "output_type": "stream",
     "text": [
      "Iteration: \t15 / 30\n",
      "Confirmed: \t4\n",
      "Tentative: \t7\n",
      "Rejected: \t6\n"
     ]
    },
    {
     "name": "stderr",
     "output_type": "stream",
     "text": [
      "[Parallel(n_jobs=-1)]: Using backend ThreadingBackend with 4 concurrent workers.\n",
      "[Parallel(n_jobs=-1)]: Done  42 tasks      | elapsed:  1.3min\n",
      "[Parallel(n_jobs=-1)]: Done  67 out of  67 | elapsed:  1.9min finished\n"
     ]
    },
    {
     "name": "stdout",
     "output_type": "stream",
     "text": [
      "Iteration: \t16 / 30\n",
      "Confirmed: \t4\n",
      "Tentative: \t5\n",
      "Rejected: \t8\n"
     ]
    },
    {
     "name": "stderr",
     "output_type": "stream",
     "text": [
      "[Parallel(n_jobs=-1)]: Using backend ThreadingBackend with 4 concurrent workers.\n",
      "[Parallel(n_jobs=-1)]: Done  42 tasks      | elapsed:  1.2min\n",
      "[Parallel(n_jobs=-1)]: Done  60 out of  60 | elapsed:  1.7min finished\n"
     ]
    },
    {
     "name": "stdout",
     "output_type": "stream",
     "text": [
      "Iteration: \t17 / 30\n",
      "Confirmed: \t4\n",
      "Tentative: \t5\n",
      "Rejected: \t8\n"
     ]
    },
    {
     "name": "stderr",
     "output_type": "stream",
     "text": [
      "[Parallel(n_jobs=-1)]: Using backend ThreadingBackend with 4 concurrent workers.\n",
      "[Parallel(n_jobs=-1)]: Done  42 tasks      | elapsed:  1.2min\n",
      "[Parallel(n_jobs=-1)]: Done  60 out of  60 | elapsed:  1.7min finished\n"
     ]
    },
    {
     "name": "stdout",
     "output_type": "stream",
     "text": [
      "Iteration: \t18 / 30\n",
      "Confirmed: \t4\n",
      "Tentative: \t5\n",
      "Rejected: \t8\n"
     ]
    },
    {
     "name": "stderr",
     "output_type": "stream",
     "text": [
      "[Parallel(n_jobs=-1)]: Using backend ThreadingBackend with 4 concurrent workers.\n",
      "[Parallel(n_jobs=-1)]: Done  42 tasks      | elapsed:  1.3min\n",
      "[Parallel(n_jobs=-1)]: Done  60 out of  60 | elapsed:  1.7min finished\n"
     ]
    },
    {
     "name": "stdout",
     "output_type": "stream",
     "text": [
      "Iteration: \t19 / 30\n",
      "Confirmed: \t5\n",
      "Tentative: \t3\n",
      "Rejected: \t9\n"
     ]
    },
    {
     "name": "stderr",
     "output_type": "stream",
     "text": [
      "[Parallel(n_jobs=-1)]: Using backend ThreadingBackend with 4 concurrent workers.\n",
      "[Parallel(n_jobs=-1)]: Done  42 tasks      | elapsed:  1.3min\n",
      "[Parallel(n_jobs=-1)]: Done  57 out of  57 | elapsed:  1.7min finished\n"
     ]
    },
    {
     "name": "stdout",
     "output_type": "stream",
     "text": [
      "Iteration: \t20 / 30\n",
      "Confirmed: \t5\n",
      "Tentative: \t3\n",
      "Rejected: \t9\n"
     ]
    },
    {
     "name": "stderr",
     "output_type": "stream",
     "text": [
      "[Parallel(n_jobs=-1)]: Using backend ThreadingBackend with 4 concurrent workers.\n",
      "[Parallel(n_jobs=-1)]: Done  42 tasks      | elapsed:  1.3min\n",
      "[Parallel(n_jobs=-1)]: Done  57 out of  57 | elapsed:  1.7min finished\n"
     ]
    },
    {
     "name": "stdout",
     "output_type": "stream",
     "text": [
      "Iteration: \t21 / 30\n",
      "Confirmed: \t5\n",
      "Tentative: \t3\n",
      "Rejected: \t9\n"
     ]
    },
    {
     "name": "stderr",
     "output_type": "stream",
     "text": [
      "[Parallel(n_jobs=-1)]: Using backend ThreadingBackend with 4 concurrent workers.\n",
      "[Parallel(n_jobs=-1)]: Done  42 tasks      | elapsed:  1.3min\n",
      "[Parallel(n_jobs=-1)]: Done  57 out of  57 | elapsed:  1.7min finished\n"
     ]
    },
    {
     "name": "stdout",
     "output_type": "stream",
     "text": [
      "Iteration: \t22 / 30\n",
      "Confirmed: \t5\n",
      "Tentative: \t3\n",
      "Rejected: \t9\n"
     ]
    },
    {
     "name": "stderr",
     "output_type": "stream",
     "text": [
      "[Parallel(n_jobs=-1)]: Using backend ThreadingBackend with 4 concurrent workers.\n",
      "[Parallel(n_jobs=-1)]: Done  42 tasks      | elapsed:  1.3min\n",
      "[Parallel(n_jobs=-1)]: Done  57 out of  57 | elapsed:  1.7min finished\n"
     ]
    },
    {
     "name": "stdout",
     "output_type": "stream",
     "text": [
      "Iteration: \t23 / 30\n",
      "Confirmed: \t5\n",
      "Tentative: \t3\n",
      "Rejected: \t9\n"
     ]
    },
    {
     "name": "stderr",
     "output_type": "stream",
     "text": [
      "[Parallel(n_jobs=-1)]: Using backend ThreadingBackend with 4 concurrent workers.\n",
      "[Parallel(n_jobs=-1)]: Done  42 tasks      | elapsed:  1.3min\n",
      "[Parallel(n_jobs=-1)]: Done  57 out of  57 | elapsed:  1.7min finished\n"
     ]
    },
    {
     "name": "stdout",
     "output_type": "stream",
     "text": [
      "Iteration: \t24 / 30\n",
      "Confirmed: \t5\n",
      "Tentative: \t3\n",
      "Rejected: \t9\n"
     ]
    },
    {
     "name": "stderr",
     "output_type": "stream",
     "text": [
      "[Parallel(n_jobs=-1)]: Using backend ThreadingBackend with 4 concurrent workers.\n",
      "[Parallel(n_jobs=-1)]: Done  42 tasks      | elapsed:  1.3min\n",
      "[Parallel(n_jobs=-1)]: Done  57 out of  57 | elapsed:  1.7min finished\n"
     ]
    },
    {
     "name": "stdout",
     "output_type": "stream",
     "text": [
      "Iteration: \t25 / 30\n",
      "Confirmed: \t5\n",
      "Tentative: \t3\n",
      "Rejected: \t9\n"
     ]
    },
    {
     "name": "stderr",
     "output_type": "stream",
     "text": [
      "[Parallel(n_jobs=-1)]: Using backend ThreadingBackend with 4 concurrent workers.\n",
      "[Parallel(n_jobs=-1)]: Done  42 tasks      | elapsed:  1.3min\n",
      "[Parallel(n_jobs=-1)]: Done  57 out of  57 | elapsed:  1.7min finished\n"
     ]
    },
    {
     "name": "stdout",
     "output_type": "stream",
     "text": [
      "Iteration: \t26 / 30\n",
      "Confirmed: \t5\n",
      "Tentative: \t3\n",
      "Rejected: \t9\n"
     ]
    },
    {
     "name": "stderr",
     "output_type": "stream",
     "text": [
      "[Parallel(n_jobs=-1)]: Using backend ThreadingBackend with 4 concurrent workers.\n",
      "[Parallel(n_jobs=-1)]: Done  42 tasks      | elapsed:  1.3min\n",
      "[Parallel(n_jobs=-1)]: Done  57 out of  57 | elapsed:  1.7min finished\n"
     ]
    },
    {
     "name": "stdout",
     "output_type": "stream",
     "text": [
      "Iteration: \t27 / 30\n",
      "Confirmed: \t5\n",
      "Tentative: \t3\n",
      "Rejected: \t9\n"
     ]
    },
    {
     "name": "stderr",
     "output_type": "stream",
     "text": [
      "[Parallel(n_jobs=-1)]: Using backend ThreadingBackend with 4 concurrent workers.\n",
      "[Parallel(n_jobs=-1)]: Done  42 tasks      | elapsed:  1.3min\n",
      "[Parallel(n_jobs=-1)]: Done  57 out of  57 | elapsed:  1.7min finished\n"
     ]
    },
    {
     "name": "stdout",
     "output_type": "stream",
     "text": [
      "Iteration: \t28 / 30\n",
      "Confirmed: \t5\n",
      "Tentative: \t3\n",
      "Rejected: \t9\n"
     ]
    },
    {
     "name": "stderr",
     "output_type": "stream",
     "text": [
      "[Parallel(n_jobs=-1)]: Using backend ThreadingBackend with 4 concurrent workers.\n",
      "[Parallel(n_jobs=-1)]: Done  42 tasks      | elapsed:  1.3min\n",
      "[Parallel(n_jobs=-1)]: Done  57 out of  57 | elapsed:  1.7min finished\n"
     ]
    },
    {
     "name": "stdout",
     "output_type": "stream",
     "text": [
      "Iteration: \t29 / 30\n",
      "Confirmed: \t5\n",
      "Tentative: \t3\n",
      "Rejected: \t9\n",
      "\n",
      "\n",
      "BorutaPy finished running.\n",
      "\n",
      "Iteration: \t30 / 30\n",
      "Confirmed: \t5\n",
      "Tentative: \t0\n",
      "Rejected: \t9\n",
      "CPU times: user 3h 53min 38s, sys: 27.5 s, total: 3h 54min 5s\n",
      "Wall time: 1h 56s\n"
     ]
    }
   ],
   "source": [
    "%%time\n",
    "\n",
    "from boruta import BorutaPy\n",
    "from sklearn.ensemble import RandomForestRegressor\n",
    "\n",
    "# model\n",
    "model = RandomForestRegressor(\n",
    "    n_estimators=50\n",
    "    , criterion='mse'\n",
    "    , max_depth = 7\n",
    "    , max_features = 'sqrt' \n",
    "    , n_jobs=-1\n",
    "    , verbose=True\n",
    "    )\n",
    "\n",
    "# define Boruta feature selection method\n",
    "# https://github.com/scikit-learn-contrib/boruta_py/blob/master/boruta/boruta_py.py\n",
    "feat_selector = BorutaPy(model, \n",
    "                         n_estimators='auto',  # 特徴量の数に比例して、木の本数を増やす\n",
    "                         verbose=2, # 0: no output,1: displays iteration number,2: which features have been selected already\n",
    "                         alpha=0.05, # 特徴量を棄却する基準のp値\n",
    "                         max_iter=30, # 反復回数\n",
    "                         random_state=1\n",
    "                        )\n",
    "\n",
    "# find all relevant features - 5 features should be selected\n",
    "feat_selector.fit(X_train.values, Y_train.values)"
   ]
  },
  {
   "cell_type": "code",
   "execution_count": 22,
   "metadata": {},
   "outputs": [
    {
     "data": {
      "text/plain": [
       "array([False,  True,  True, False, False, False, False, False, False,\n",
       "        True, False, False,  True, False, False,  True, False])"
      ]
     },
     "execution_count": 22,
     "metadata": {},
     "output_type": "execute_result"
    }
   ],
   "source": [
    "# どの列が選ばれたか、の確認\n",
    "feat_selector.support_"
   ]
  },
  {
   "cell_type": "code",
   "execution_count": 23,
   "metadata": {},
   "outputs": [
    {
     "data": {
      "text/plain": [
       "array([ 2,  1,  1,  5,  5, 10,  4, 11,  2,  1,  7, 12,  1,  8,  2,  1,  9])"
      ]
     },
     "execution_count": 23,
     "metadata": {},
     "output_type": "execute_result"
    }
   ],
   "source": [
    "# 重要度に基づいたランキング\n",
    "feat_selector.ranking_"
   ]
  },
  {
   "cell_type": "code",
   "execution_count": 24,
   "metadata": {},
   "outputs": [],
   "source": [
    "# 選ばれた特徴量のみの配列を作成\n",
    "\n",
    "X_train_selected = X_train.iloc[:,feat_selector.support_]\n",
    "X_valid_selected = X_valid.iloc[:,feat_selector.support_]"
   ]
  },
  {
   "cell_type": "code",
   "execution_count": 25,
   "metadata": {},
   "outputs": [
    {
     "data": {
      "text/html": [
       "<div>\n",
       "<style scoped>\n",
       "    .dataframe tbody tr th:only-of-type {\n",
       "        vertical-align: middle;\n",
       "    }\n",
       "\n",
       "    .dataframe tbody tr th {\n",
       "        vertical-align: top;\n",
       "    }\n",
       "\n",
       "    .dataframe thead th {\n",
       "        text-align: right;\n",
       "    }\n",
       "</style>\n",
       "<table border=\"1\" class=\"dataframe\">\n",
       "  <thead>\n",
       "    <tr style=\"text-align: right;\">\n",
       "      <th></th>\n",
       "      <th>date_block_num</th>\n",
       "      <th>item_price</th>\n",
       "      <th>shop_id</th>\n",
       "      <th>item_id</th>\n",
       "      <th>DAY(date)</th>\n",
       "      <th>YEAR(date)</th>\n",
       "      <th>MONTH(date)</th>\n",
       "      <th>WEEKDAY(date)</th>\n",
       "      <th>items.item_category_id</th>\n",
       "      <th>items.SUM(train.date_block_num)</th>\n",
       "      <th>items.SUM(train.item_price)</th>\n",
       "      <th>items.MAX(train.date_block_num)</th>\n",
       "      <th>items.MAX(train.item_price)</th>\n",
       "      <th>items.MIN(train.date_block_num)</th>\n",
       "      <th>items.MIN(train.item_price)</th>\n",
       "      <th>items.COUNT(train)</th>\n",
       "      <th>items.cats.price_max</th>\n",
       "    </tr>\n",
       "    <tr>\n",
       "      <th>train_index</th>\n",
       "      <th></th>\n",
       "      <th></th>\n",
       "      <th></th>\n",
       "      <th></th>\n",
       "      <th></th>\n",
       "      <th></th>\n",
       "      <th></th>\n",
       "      <th></th>\n",
       "      <th></th>\n",
       "      <th></th>\n",
       "      <th></th>\n",
       "      <th></th>\n",
       "      <th></th>\n",
       "      <th></th>\n",
       "      <th></th>\n",
       "      <th></th>\n",
       "      <th></th>\n",
       "    </tr>\n",
       "  </thead>\n",
       "  <tbody>\n",
       "    <tr>\n",
       "      <th>0</th>\n",
       "      <td>0</td>\n",
       "      <td>999.00</td>\n",
       "      <td>59</td>\n",
       "      <td>22154</td>\n",
       "      <td>1</td>\n",
       "      <td>2013</td>\n",
       "      <td>2</td>\n",
       "      <td>4</td>\n",
       "      <td>37</td>\n",
       "      <td>798</td>\n",
       "      <td>41473.00</td>\n",
       "      <td>33</td>\n",
       "      <td>999.00</td>\n",
       "      <td>0</td>\n",
       "      <td>299.00</td>\n",
       "      <td>59</td>\n",
       "      <td>719</td>\n",
       "    </tr>\n",
       "    <tr>\n",
       "      <th>1</th>\n",
       "      <td>0</td>\n",
       "      <td>899.00</td>\n",
       "      <td>25</td>\n",
       "      <td>2552</td>\n",
       "      <td>1</td>\n",
       "      <td>2013</td>\n",
       "      <td>3</td>\n",
       "      <td>4</td>\n",
       "      <td>58</td>\n",
       "      <td>65</td>\n",
       "      <td>8441.00</td>\n",
       "      <td>28</td>\n",
       "      <td>949.00</td>\n",
       "      <td>0</td>\n",
       "      <td>899.00</td>\n",
       "      <td>9</td>\n",
       "      <td>1055</td>\n",
       "    </tr>\n",
       "    <tr>\n",
       "      <th>2</th>\n",
       "      <td>0</td>\n",
       "      <td>899.00</td>\n",
       "      <td>25</td>\n",
       "      <td>2552</td>\n",
       "      <td>1</td>\n",
       "      <td>2013</td>\n",
       "      <td>5</td>\n",
       "      <td>2</td>\n",
       "      <td>58</td>\n",
       "      <td>65</td>\n",
       "      <td>8441.00</td>\n",
       "      <td>28</td>\n",
       "      <td>949.00</td>\n",
       "      <td>0</td>\n",
       "      <td>899.00</td>\n",
       "      <td>9</td>\n",
       "      <td>1055</td>\n",
       "    </tr>\n",
       "    <tr>\n",
       "      <th>3</th>\n",
       "      <td>0</td>\n",
       "      <td>1709.05</td>\n",
       "      <td>25</td>\n",
       "      <td>2554</td>\n",
       "      <td>1</td>\n",
       "      <td>2013</td>\n",
       "      <td>6</td>\n",
       "      <td>5</td>\n",
       "      <td>58</td>\n",
       "      <td>0</td>\n",
       "      <td>1709.05</td>\n",
       "      <td>0</td>\n",
       "      <td>1709.05</td>\n",
       "      <td>0</td>\n",
       "      <td>1709.05</td>\n",
       "      <td>1</td>\n",
       "      <td>1055</td>\n",
       "    </tr>\n",
       "    <tr>\n",
       "      <th>4</th>\n",
       "      <td>0</td>\n",
       "      <td>1099.00</td>\n",
       "      <td>25</td>\n",
       "      <td>2555</td>\n",
       "      <td>15</td>\n",
       "      <td>2013</td>\n",
       "      <td>1</td>\n",
       "      <td>1</td>\n",
       "      <td>56</td>\n",
       "      <td>418</td>\n",
       "      <td>62893.70</td>\n",
       "      <td>21</td>\n",
       "      <td>1149.00</td>\n",
       "      <td>0</td>\n",
       "      <td>1098.70</td>\n",
       "      <td>56</td>\n",
       "      <td>1729</td>\n",
       "    </tr>\n",
       "  </tbody>\n",
       "</table>\n",
       "</div>"
      ],
      "text/plain": [
       "             date_block_num  item_price  shop_id  item_id  DAY(date)  \\\n",
       "train_index                                                            \n",
       "0                         0      999.00       59    22154          1   \n",
       "1                         0      899.00       25     2552          1   \n",
       "2                         0      899.00       25     2552          1   \n",
       "3                         0     1709.05       25     2554          1   \n",
       "4                         0     1099.00       25     2555         15   \n",
       "\n",
       "             YEAR(date)  MONTH(date)  WEEKDAY(date)  items.item_category_id  \\\n",
       "train_index                                                                   \n",
       "0                  2013            2              4                      37   \n",
       "1                  2013            3              4                      58   \n",
       "2                  2013            5              2                      58   \n",
       "3                  2013            6              5                      58   \n",
       "4                  2013            1              1                      56   \n",
       "\n",
       "             items.SUM(train.date_block_num)  items.SUM(train.item_price)  \\\n",
       "train_index                                                                 \n",
       "0                                        798                     41473.00   \n",
       "1                                         65                      8441.00   \n",
       "2                                         65                      8441.00   \n",
       "3                                          0                      1709.05   \n",
       "4                                        418                     62893.70   \n",
       "\n",
       "             items.MAX(train.date_block_num)  items.MAX(train.item_price)  \\\n",
       "train_index                                                                 \n",
       "0                                         33                       999.00   \n",
       "1                                         28                       949.00   \n",
       "2                                         28                       949.00   \n",
       "3                                          0                      1709.05   \n",
       "4                                         21                      1149.00   \n",
       "\n",
       "             items.MIN(train.date_block_num)  items.MIN(train.item_price)  \\\n",
       "train_index                                                                 \n",
       "0                                          0                       299.00   \n",
       "1                                          0                       899.00   \n",
       "2                                          0                       899.00   \n",
       "3                                          0                      1709.05   \n",
       "4                                          0                      1098.70   \n",
       "\n",
       "             items.COUNT(train)  items.cats.price_max  \n",
       "train_index                                            \n",
       "0                            59                   719  \n",
       "1                             9                  1055  \n",
       "2                             9                  1055  \n",
       "3                             1                  1055  \n",
       "4                            56                  1729  "
      ]
     },
     "execution_count": 25,
     "metadata": {},
     "output_type": "execute_result"
    }
   ],
   "source": [
    "X_train.head()"
   ]
  },
  {
   "cell_type": "code",
   "execution_count": 26,
   "metadata": {},
   "outputs": [
    {
     "data": {
      "text/html": [
       "<div>\n",
       "<style scoped>\n",
       "    .dataframe tbody tr th:only-of-type {\n",
       "        vertical-align: middle;\n",
       "    }\n",
       "\n",
       "    .dataframe tbody tr th {\n",
       "        vertical-align: top;\n",
       "    }\n",
       "\n",
       "    .dataframe thead th {\n",
       "        text-align: right;\n",
       "    }\n",
       "</style>\n",
       "<table border=\"1\" class=\"dataframe\">\n",
       "  <thead>\n",
       "    <tr style=\"text-align: right;\">\n",
       "      <th></th>\n",
       "      <th>item_price</th>\n",
       "      <th>shop_id</th>\n",
       "      <th>items.SUM(train.date_block_num)</th>\n",
       "      <th>items.MAX(train.item_price)</th>\n",
       "      <th>items.COUNT(train)</th>\n",
       "    </tr>\n",
       "    <tr>\n",
       "      <th>train_index</th>\n",
       "      <th></th>\n",
       "      <th></th>\n",
       "      <th></th>\n",
       "      <th></th>\n",
       "      <th></th>\n",
       "    </tr>\n",
       "  </thead>\n",
       "  <tbody>\n",
       "    <tr>\n",
       "      <th>0</th>\n",
       "      <td>999.00</td>\n",
       "      <td>59</td>\n",
       "      <td>798</td>\n",
       "      <td>999.00</td>\n",
       "      <td>59</td>\n",
       "    </tr>\n",
       "    <tr>\n",
       "      <th>1</th>\n",
       "      <td>899.00</td>\n",
       "      <td>25</td>\n",
       "      <td>65</td>\n",
       "      <td>949.00</td>\n",
       "      <td>9</td>\n",
       "    </tr>\n",
       "    <tr>\n",
       "      <th>2</th>\n",
       "      <td>899.00</td>\n",
       "      <td>25</td>\n",
       "      <td>65</td>\n",
       "      <td>949.00</td>\n",
       "      <td>9</td>\n",
       "    </tr>\n",
       "    <tr>\n",
       "      <th>3</th>\n",
       "      <td>1709.05</td>\n",
       "      <td>25</td>\n",
       "      <td>0</td>\n",
       "      <td>1709.05</td>\n",
       "      <td>1</td>\n",
       "    </tr>\n",
       "    <tr>\n",
       "      <th>4</th>\n",
       "      <td>1099.00</td>\n",
       "      <td>25</td>\n",
       "      <td>418</td>\n",
       "      <td>1149.00</td>\n",
       "      <td>56</td>\n",
       "    </tr>\n",
       "  </tbody>\n",
       "</table>\n",
       "</div>"
      ],
      "text/plain": [
       "             item_price  shop_id  items.SUM(train.date_block_num)  \\\n",
       "train_index                                                         \n",
       "0                999.00       59                              798   \n",
       "1                899.00       25                               65   \n",
       "2                899.00       25                               65   \n",
       "3               1709.05       25                                0   \n",
       "4               1099.00       25                              418   \n",
       "\n",
       "             items.MAX(train.item_price)  items.COUNT(train)  \n",
       "train_index                                                   \n",
       "0                                 999.00                  59  \n",
       "1                                 949.00                   9  \n",
       "2                                 949.00                   9  \n",
       "3                                1709.05                   1  \n",
       "4                                1149.00                  56  "
      ]
     },
     "execution_count": 26,
     "metadata": {},
     "output_type": "execute_result"
    }
   ],
   "source": [
    "X_train_selected.head()"
   ]
  },
  {
   "cell_type": "markdown",
   "metadata": {},
   "source": [
    "# モデルを再度学習"
   ]
  },
  {
   "cell_type": "code",
   "execution_count": 27,
   "metadata": {},
   "outputs": [
    {
     "name": "stderr",
     "output_type": "stream",
     "text": [
      "[Parallel(n_jobs=-1)]: Using backend ThreadingBackend with 4 concurrent workers.\n",
      "[Parallel(n_jobs=-1)]: Done  42 tasks      | elapsed:   48.0s\n",
      "[Parallel(n_jobs=-1)]: Done  50 out of  50 | elapsed:   55.9s finished\n",
      "[Parallel(n_jobs=4)]: Using backend ThreadingBackend with 4 concurrent workers.\n",
      "[Parallel(n_jobs=4)]: Done  42 tasks      | elapsed:    1.4s\n"
     ]
    },
    {
     "name": "stdout",
     "output_type": "stream",
     "text": [
      "train:0.21540294985590158\n",
      "val:0.05816407096609288\n"
     ]
    },
    {
     "name": "stderr",
     "output_type": "stream",
     "text": [
      "[Parallel(n_jobs=4)]: Done  50 out of  50 | elapsed:    1.7s finished\n",
      "[Parallel(n_jobs=4)]: Using backend ThreadingBackend with 4 concurrent workers.\n",
      "[Parallel(n_jobs=4)]: Done  42 tasks      | elapsed:    0.0s\n",
      "[Parallel(n_jobs=4)]: Done  50 out of  50 | elapsed:    0.0s finished\n"
     ]
    }
   ],
   "source": [
    "from sklearn.ensemble import RandomForestRegressor\n",
    "\n",
    "# model\n",
    "model = RandomForestRegressor(\n",
    "    n_estimators=50\n",
    "    , criterion='mse'\n",
    "    , max_depth = 7\n",
    "    , min_samples_split = 2\n",
    "    , max_features = 'sqrt' \n",
    "    , n_jobs=-1\n",
    "    , verbose=1\n",
    "    )\n",
    "\n",
    "model.fit(X_train_selected.values, Y_train.values)\n",
    "\n",
    "# 評価指標\n",
    "print('train:{}'.format(model.score(X_train_selected, Y_train)))\n",
    "print('val:{}'.format(model.score(X_valid_selected, Y_valid)))"
   ]
  },
  {
   "cell_type": "markdown",
   "metadata": {},
   "source": [
    "ベースラインと比較して、検証データセットでの精度が向上していることが確認できた。  \n",
    "(数字としては全然使い物にならないが...)  \n",
    "\n",
    "今回は全体としての使い方を習得することを目的とするので、続いて特徴量を一旦出力しておく。"
   ]
  },
  {
   "cell_type": "code",
   "execution_count": 118,
   "metadata": {},
   "outputs": [
    {
     "name": "stdout",
     "output_type": "stream",
     "text": [
      "(2882335, 7)\n",
      "(2882335, 2)\n",
      "(53514, 7)\n",
      "(53514, 2)\n"
     ]
    }
   ],
   "source": [
    "# 出力\n",
    "\n",
    "X_train_selected.to_csv('x_train_selected.csv')\n",
    "Y_train.to_csv('y_train.csv')\n",
    "X_valid_selected.to_csv('x_valid_selected.csv')\n",
    "Y_valid.to_csv('y_valid.csv')\n",
    "\n",
    "# 取り込み\n",
    "import pandas as pd\n",
    "\n",
    "X_train_selected = pd.read_csv('x_train_selected.csv', header=0)\n",
    "Y_train = pd.read_csv('y_train.csv', header=None)\n",
    "X_valid_selected = pd.read_csv('x_valid_selected.csv', header=0)\n",
    "Y_valid = pd.read_csv('y_valid.csv', header=None)\n",
    "\n",
    "print(X_train_selected.shape)\n",
    "print(Y_train.shape)\n",
    "print(X_valid_selected.shape)\n",
    "print(Y_valid.shape)"
   ]
  },
  {
   "cell_type": "markdown",
   "metadata": {},
   "source": [
    "# 3.ハイパーパラメータチューニング\n",
    "\n",
    "「特徴量自動生成」→「特徴量選択」と来たので、最後にハイパーパラメータチューニングをする。  \n",
    "[optuna](https://optuna.org/)を使うよ。"
   ]
  },
  {
   "cell_type": "code",
   "execution_count": 1,
   "metadata": {},
   "outputs": [
    {
     "name": "stdout",
     "output_type": "stream",
     "text": [
      "Collecting pip\n",
      "\u001b[?25l  Downloading https://files.pythonhosted.org/packages/c2/d7/90f34cb0d83a6c5631cf71dfe64cc1054598c843a92b400e55675cc2ac37/pip-18.1-py2.py3-none-any.whl (1.3MB)\n",
      "\u001b[K    100% |████████████████████████████████| 1.3MB 22.9MB/s \n",
      "\u001b[?25hInstalling collected packages: pip\n",
      "  Found existing installation: pip 10.0.1\n",
      "    Uninstalling pip-10.0.1:\n",
      "      Successfully uninstalled pip-10.0.1\n",
      "Successfully installed pip-18.1\n",
      "Collecting optuna\n",
      "\u001b[?25l  Downloading https://files.pythonhosted.org/packages/23/eb/8c9ba158711b159889c2eee55dacb086c21191ad039d8530e1a6bdc8152a/optuna-0.6.0.tar.gz (57kB)\n",
      "\u001b[K    100% |████████████████████████████████| 61kB 15.4MB/s \n",
      "\u001b[?25hRequirement already satisfied: sqlalchemy>=1.1.0 in /home/ec2-user/anaconda3/envs/python3/lib/python3.6/site-packages (from optuna) (1.2.11)\n",
      "Requirement already satisfied: numpy in /home/ec2-user/anaconda3/envs/python3/lib/python3.6/site-packages (from optuna) (1.14.5)\n",
      "Requirement already satisfied: scipy in /home/ec2-user/anaconda3/envs/python3/lib/python3.6/site-packages (from optuna) (1.1.0)\n",
      "Requirement already satisfied: six in /home/ec2-user/anaconda3/envs/python3/lib/python3.6/site-packages (from optuna) (1.11.0)\n",
      "Requirement already satisfied: typing in /home/ec2-user/anaconda3/envs/python3/lib/python3.6/site-packages (from optuna) (3.6.4)\n",
      "Collecting cliff (from optuna)\n",
      "\u001b[?25l  Downloading https://files.pythonhosted.org/packages/8e/1a/5404afee3d83a2e5f27e0d20ac7012c9f07bd8e9b03d0ae1fd9bb3e63037/cliff-2.14.0-py2.py3-none-any.whl (77kB)\n",
      "\u001b[K    100% |████████████████████████████████| 81kB 31.2MB/s \n",
      "\u001b[?25hCollecting colorlog (from optuna)\n",
      "  Downloading https://files.pythonhosted.org/packages/68/4d/892728b0c14547224f0ac40884e722a3d00cb54e7a146aea0b3186806c9e/colorlog-4.0.2-py2.py3-none-any.whl\n",
      "Requirement already satisfied: pandas in /home/ec2-user/anaconda3/envs/python3/lib/python3.6/site-packages (from optuna) (0.22.0)\n",
      "Collecting PrettyTable<0.8,>=0.7.2 (from cliff->optuna)\n",
      "  Downloading https://files.pythonhosted.org/packages/ef/30/4b0746848746ed5941f052479e7c23d2b56d174b82f4fd34a25e389831f5/prettytable-0.7.2.tar.bz2\n",
      "Requirement already satisfied: PyYAML>=3.12 in /home/ec2-user/anaconda3/envs/python3/lib/python3.6/site-packages (from cliff->optuna) (3.12)\n",
      "Collecting stevedore>=1.20.0 (from cliff->optuna)\n",
      "\u001b[?25l  Downloading https://files.pythonhosted.org/packages/35/fa/8683fab2a6e15ecfe107996e56fab91e52fe3ec0b40ca9440a0e1ffe6892/stevedore-1.30.0-py2.py3-none-any.whl (42kB)\n",
      "\u001b[K    100% |████████████████████████████████| 51kB 28.5MB/s \n",
      "\u001b[?25hRequirement already satisfied: pbr!=2.1.0,>=2.0.0 in /home/ec2-user/anaconda3/envs/python3/lib/python3.6/site-packages (from cliff->optuna) (4.2.0)\n",
      "Collecting cmd2!=0.8.3; python_version >= \"3.0\" (from cliff->optuna)\n",
      "\u001b[?25l  Downloading https://files.pythonhosted.org/packages/36/cf/25c3151c531f13988605e6792922152bd5d0dc0e907d02006767ca7668ed/cmd2-0.9.7-py3-none-any.whl (86kB)\n",
      "\u001b[K    100% |████████████████████████████████| 92kB 35.3MB/s \n",
      "\u001b[?25hRequirement already satisfied: pyparsing>=2.1.0 in /home/ec2-user/anaconda3/envs/python3/lib/python3.6/site-packages (from cliff->optuna) (2.2.0)\n",
      "Requirement already satisfied: pytz>=2011k in /home/ec2-user/anaconda3/envs/python3/lib/python3.6/site-packages (from pandas->optuna) (2018.4)\n",
      "Requirement already satisfied: python-dateutil>=2 in /home/ec2-user/anaconda3/envs/python3/lib/python3.6/site-packages (from pandas->optuna) (2.7.3)\n",
      "Collecting pyperclip>=1.5.27 (from cmd2!=0.8.3; python_version >= \"3.0\"->cliff->optuna)\n",
      "  Downloading https://files.pythonhosted.org/packages/2d/0f/4eda562dffd085945d57c2d9a5da745cfb5228c02bc90f2c74bbac746243/pyperclip-1.7.0.tar.gz\n",
      "Requirement already satisfied: colorama in /home/ec2-user/anaconda3/envs/python3/lib/python3.6/site-packages (from cmd2!=0.8.3; python_version >= \"3.0\"->cliff->optuna) (0.3.9)\n",
      "Requirement already satisfied: wcwidth>=0.1.7 in /home/ec2-user/anaconda3/envs/python3/lib/python3.6/site-packages (from cmd2!=0.8.3; python_version >= \"3.0\"->cliff->optuna) (0.1.7)\n",
      "Requirement already satisfied: attrs>=16.3.0 in /home/ec2-user/anaconda3/envs/python3/lib/python3.6/site-packages (from cmd2!=0.8.3; python_version >= \"3.0\"->cliff->optuna) (18.1.0)\n",
      "Building wheels for collected packages: optuna, PrettyTable, pyperclip\n",
      "  Running setup.py bdist_wheel for optuna ... \u001b[?25ldone\n",
      "\u001b[?25h  Stored in directory: /home/ec2-user/.cache/pip/wheels/6b/35/b5/c8dda18e03a24da1fb839ccf5ec7ddda34469ab7cb5f4ff831\n",
      "  Running setup.py bdist_wheel for PrettyTable ... \u001b[?25ldone\n",
      "\u001b[?25h  Stored in directory: /home/ec2-user/.cache/pip/wheels/80/34/1c/3967380d9676d162cb59513bd9dc862d0584e045a162095606\n",
      "  Running setup.py bdist_wheel for pyperclip ... \u001b[?25ldone\n",
      "\u001b[?25h  Stored in directory: /home/ec2-user/.cache/pip/wheels/92/f0/ac/2ba2972034e98971c3654ece337ac61e546bdeb34ca960dc8c\n",
      "Successfully built optuna PrettyTable pyperclip\n",
      "Installing collected packages: PrettyTable, stevedore, pyperclip, cmd2, cliff, colorlog, optuna\n",
      "Successfully installed PrettyTable-0.7.2 cliff-2.14.0 cmd2-0.9.7 colorlog-4.0.2 optuna-0.6.0 pyperclip-1.7.0 stevedore-1.30.0\n"
     ]
    }
   ],
   "source": [
    "# インストール\n",
    "!pip install --upgrade pip\n",
    "!pip install optuna"
   ]
  },
  {
   "cell_type": "markdown",
   "metadata": {},
   "source": [
    "# 学習部分の記述\n",
    "探索するハイパーパラメータの範囲もここで書くよ。"
   ]
  },
  {
   "cell_type": "code",
   "execution_count": 119,
   "metadata": {},
   "outputs": [],
   "source": [
    "import optuna\n",
    "from sklearn.ensemble import RandomForestRegressor\n",
    "\n",
    "def objective(trial):\n",
    "    '''\n",
    "    trial:set of hyperparameter    \n",
    "    '''\n",
    "    # hypyer param\n",
    "    max_depth = trial.suggest_int('max_depth', 3, 10) # 深すぎると過学習になるかも...\n",
    "    n_estimators = trial.suggest_int('n_estimators', 50, 100) # しっかりやるなら100以上がいいかも\n",
    "    max_features = trial.suggest_categorical('max_features', ['sqrt', 'auto', 'log2'])\n",
    "    \n",
    "    # model\n",
    "    model = RandomForestRegressor(max_depth=max_depth,\n",
    "                                  n_estimators=n_estimators,\n",
    "                                  max_features=max_features,\n",
    "                                  n_jobs=-1,\n",
    "                                  verbose=1)\n",
    "    \n",
    "    # fit\n",
    "    model.fit(X_train_selected.values, Y_train.values)\n",
    "    \n",
    "    # eval\n",
    "    score = -1 * model.score(X_valid_selected.values, Y_valid.values) \n",
    "    return score"
   ]
  },
  {
   "cell_type": "markdown",
   "metadata": {},
   "source": [
    "# HPOの実行"
   ]
  },
  {
   "cell_type": "code",
   "execution_count": 120,
   "metadata": {},
   "outputs": [
    {
     "name": "stderr",
     "output_type": "stream",
     "text": [
      "[Parallel(n_jobs=-1)]: Done  42 tasks      | elapsed:  2.5min\n",
      "[Parallel(n_jobs=-1)]: Done  42 tasks      | elapsed:  2.9min\n",
      "[Parallel(n_jobs=-1)]: Done  42 tasks      | elapsed:  4.0min\n",
      "[Parallel(n_jobs=-1)]: Done  68 out of  68 | elapsed:  4.5min finished\n",
      "[Parallel(n_jobs=4)]: Done  42 tasks      | elapsed:    0.1s\n",
      "[Parallel(n_jobs=4)]: Done  68 out of  68 | elapsed:    0.2s finished\n",
      "[I 2019-01-16 10:14:26,033] Finished a trial resulted in value: 8653.64057556307. Current best value is 8653.64057556307 with parameters: {'max_depth': 6, 'n_estimators': 68, 'max_features': 'log2'}.\n",
      "[Parallel(n_jobs=-1)]: Done  95 out of  95 | elapsed:  5.3min finished\n",
      "[Parallel(n_jobs=4)]: Done  42 tasks      | elapsed:    0.1s\n",
      "[Parallel(n_jobs=4)]: Done  95 out of  95 | elapsed:    0.2s finished\n",
      "[I 2019-01-16 10:15:10,057] Finished a trial resulted in value: 10314.199626400847. Current best value is 8653.64057556307 with parameters: {'max_depth': 6, 'n_estimators': 68, 'max_features': 'log2'}.\n",
      "[Parallel(n_jobs=-1)]: Done  86 out of  86 | elapsed:  6.4min finished\n",
      "[Parallel(n_jobs=4)]: Done  42 tasks      | elapsed:    0.1s\n",
      "[Parallel(n_jobs=4)]: Done  86 out of  86 | elapsed:    0.2s finished\n",
      "[I 2019-01-16 10:16:16,081] Finished a trial resulted in value: 7423.565096360548. Current best value is 7423.565096360548 with parameters: {'max_depth': 9, 'n_estimators': 86, 'max_features': 'sqrt'}.\n",
      "[Parallel(n_jobs=-1)]: Done  42 tasks      | elapsed:  6.9min\n",
      "[Parallel(n_jobs=-1)]: Done  69 out of  69 | elapsed:  8.3min finished\n",
      "[Parallel(n_jobs=4)]: Done  42 tasks      | elapsed:    0.0s\n",
      "[Parallel(n_jobs=4)]: Done  69 out of  69 | elapsed:    0.1s finished\n",
      "[I 2019-01-16 10:18:15,000] Finished a trial resulted in value: 8794.99233140274. Current best value is 7423.565096360548 with parameters: {'max_depth': 9, 'n_estimators': 86, 'max_features': 'sqrt'}.\n"
     ]
    },
    {
     "name": "stdout",
     "output_type": "stream",
     "text": [
      "CPU times: user 32min 43s, sys: 2.49 s, total: 32min 46s\n",
      "Wall time: 8min 21s\n"
     ]
    }
   ],
   "source": [
    "%%time\n",
    "\n",
    "study = optuna.create_study()\n",
    "\n",
    "# https://optuna.readthedocs.io/en/stable/reference/study.html#optuna.study.Study.optimize\n",
    "study.optimize(func=objective, # 実行する関数\n",
    "               n_trials=4, # HPO試行回数\n",
    "               timeout=None, # 与えられた秒数後に学習を中止します。default=None\n",
    "               n_jobs=-1 # 並列実行するjob数\n",
    "              )"
   ]
  },
  {
   "cell_type": "markdown",
   "metadata": {},
   "source": [
    "# HPO結果の確認\n",
    "[調査系](https://optuna.readthedocs.io/en/stable/reference/study.html#optuna.study.Study.optimize)を参考に"
   ]
  },
  {
   "cell_type": "code",
   "execution_count": 86,
   "metadata": {},
   "outputs": [
    {
     "name": "stdout",
     "output_type": "stream",
     "text": [
      "check!!!\n",
      "best_param:{'max_depth': 8, 'n_estimators': 34, 'max_features': 'log2'}\n",
      "====================\n",
      "best_value:-0.058732562386513365\n",
      "====================\n",
      "best_trial:FrozenTrial(trial_id=26, state=<TrialState.COMPLETE: 1>, value=-0.058732562386513365, datetime_start=datetime.datetime(2019, 1, 11, 10, 35, 22, 627022), datetime_complete=datetime.datetime(2019, 1, 11, 10, 41, 13, 711231), params={'max_depth': 8, 'n_estimators': 34, 'max_features': 'log2'}, user_attrs={}, system_attrs={}, intermediate_values={}, params_in_internal_repr={'max_depth': 8, 'n_estimators': 34, 'max_features': 2})\n",
      "====================\n",
      "param:{'max_depth': 6, 'n_estimators': 38, 'max_features': 'auto'}, eval_value:-0.04143774876575668\n",
      "param:{'max_depth': 7, 'n_estimators': 24, 'max_features': 'auto'}, eval_value:-0.04951360218209144\n",
      "param:{'max_depth': 9, 'n_estimators': 40, 'max_features': 'log2'}, eval_value:-0.05673757564422378\n",
      "param:{'max_depth': 9, 'n_estimators': 13, 'max_features': 'auto'}, eval_value:-0.040143784430618834\n",
      "param:{'max_depth': 3, 'n_estimators': 11, 'max_features': 'log2'}, eval_value:-0.001981779103447656\n",
      "param:{'max_depth': 7, 'n_estimators': 50, 'max_features': 'log2'}, eval_value:-0.052213705261835996\n",
      "param:{'max_depth': 8, 'n_estimators': 23, 'max_features': 'auto'}, eval_value:-0.03864020490234121\n",
      "param:{'max_depth': 4, 'n_estimators': 37, 'max_features': 'auto'}, eval_value:-0.006517389616976454\n",
      "param:{'max_depth': 8, 'n_estimators': 47, 'max_features': 'log2'}, eval_value:-0.049478868142555976\n",
      "param:{'max_depth': 6, 'n_estimators': 23, 'max_features': 'auto'}, eval_value:-0.032871941306147456\n",
      "param:{'max_depth': 5, 'n_estimators': 48, 'max_features': 'sqrt'}, eval_value:-0.03013491211442598\n",
      "param:{'max_depth': 9, 'n_estimators': 47, 'max_features': 'log2'}, eval_value:-0.05550259147258818\n",
      "param:{'max_depth': 8, 'n_estimators': 33, 'max_features': 'auto'}, eval_value:-0.04505485569309742\n",
      "param:{'max_depth': 10, 'n_estimators': 42, 'max_features': 'sqrt'}, eval_value:-0.051229669409529666\n",
      "param:{'max_depth': 10, 'n_estimators': 38, 'max_features': 'log2'}, eval_value:-0.055626654580367536\n",
      "param:{'max_depth': 10, 'n_estimators': 38, 'max_features': 'sqrt'}, eval_value:-0.05081203522190647\n",
      "param:{'max_depth': 10, 'n_estimators': 41, 'max_features': 'sqrt'}, eval_value:-0.048193514243751956\n",
      "param:{'max_depth': 10, 'n_estimators': 29, 'max_features': 'log2'}, eval_value:-0.05151929205035021\n",
      "param:{'max_depth': 4, 'n_estimators': 28, 'max_features': 'sqrt'}, eval_value:-0.0035745867070168247\n",
      "param:{'max_depth': 10, 'n_estimators': 13, 'max_features': 'log2'}, eval_value:-0.05266101141103319\n",
      "param:{'max_depth': 10, 'n_estimators': 43, 'max_features': 'log2'}, eval_value:-0.051850582992530085\n",
      "param:{'max_depth': 9, 'n_estimators': 43, 'max_features': 'log2'}, eval_value:-0.052958091874738995\n",
      "param:{'max_depth': 9, 'n_estimators': 43, 'max_features': 'log2'}, eval_value:-0.052173092599330784\n",
      "param:{'max_depth': 9, 'n_estimators': 33, 'max_features': 'log2'}, eval_value:-0.05023465646917824\n",
      "param:{'max_depth': 9, 'n_estimators': 31, 'max_features': 'log2'}, eval_value:-0.04809887328708162\n",
      "param:{'max_depth': 9, 'n_estimators': 32, 'max_features': 'log2'}, eval_value:-0.057613960258326\n",
      "param:{'max_depth': 8, 'n_estimators': 34, 'max_features': 'log2'}, eval_value:-0.058732562386513365\n",
      "param:{'max_depth': 8, 'n_estimators': 32, 'max_features': 'log2'}, eval_value:-0.05057907761518454\n",
      "param:{'max_depth': 8, 'n_estimators': 19, 'max_features': 'log2'}, eval_value:-0.0544447192363503\n",
      "param:{'max_depth': 7, 'n_estimators': 35, 'max_features': 'log2'}, eval_value:-0.05647645654001243\n",
      "param:{'max_depth': 7, 'n_estimators': 36, 'max_features': 'log2'}, eval_value:-0.052807102803392625\n",
      "param:{'max_depth': 7, 'n_estimators': 17, 'max_features': 'log2'}, eval_value:-0.05221681457897309\n",
      "param:{'max_depth': 7, 'n_estimators': 18, 'max_features': 'log2'}, eval_value:-0.049987787900572234\n",
      "param:{'max_depth': 6, 'n_estimators': 25, 'max_features': 'log2'}, eval_value:-0.043430196465507054\n",
      "param:{'max_depth': 5, 'n_estimators': 26, 'max_features': 'log2'}, eval_value:-0.01844952691202706\n",
      "param:{'max_depth': 6, 'n_estimators': 26, 'max_features': 'sqrt'}, eval_value:-0.046102783247803814\n",
      "param:{'max_depth': 6, 'n_estimators': 26, 'max_features': 'auto'}, eval_value:-0.038803578334861255\n",
      "param:{'max_depth': 5, 'n_estimators': 26, 'max_features': 'auto'}, eval_value:-0.01071693324512002\n",
      "param:{'max_depth': 8, 'n_estimators': 21, 'max_features': 'auto'}, eval_value:-0.03990546489262836\n",
      "param:{'max_depth': 8, 'n_estimators': 29, 'max_features': 'auto'}, eval_value:-0.0494884461483045\n",
      "param:{'max_depth': 8, 'n_estimators': 20, 'max_features': 'auto'}, eval_value:-0.03263026919276357\n",
      "param:{'max_depth': 8, 'n_estimators': 21, 'max_features': 'log2'}, eval_value:-0.05498862266070902\n",
      "param:{'max_depth': 8, 'n_estimators': 16, 'max_features': 'log2'}, eval_value:-0.05032032755472138\n",
      "param:{'max_depth': 9, 'n_estimators': 14, 'max_features': 'sqrt'}, eval_value:-0.04346673227103348\n",
      "param:{'max_depth': 9, 'n_estimators': 16, 'max_features': 'sqrt'}, eval_value:-0.04913173876015342\n",
      "param:{'max_depth': 9, 'n_estimators': 35, 'max_features': 'sqrt'}, eval_value:-0.05106453260433863\n",
      "param:{'max_depth': 9, 'n_estimators': 45, 'max_features': 'sqrt'}, eval_value:-0.05084193822992189\n",
      "param:{'max_depth': 4, 'n_estimators': 45, 'max_features': 'log2'}, eval_value:-0.009844520438704984\n",
      "param:{'max_depth': 7, 'n_estimators': 39, 'max_features': 'log2'}, eval_value:-0.04944767053590071\n",
      "param:{'max_depth': 7, 'n_estimators': 39, 'max_features': 'log2'}, eval_value:-0.054431477452170474\n",
      "====================\n"
     ]
    }
   ],
   "source": [
    "# HPO試行結果の確認\n",
    "\n",
    "#最適化したハイパーパラメータの確認\n",
    "print('check!!!')\n",
    "print('best_param:{}'.format(study.best_params))\n",
    "print('====================')\n",
    "\n",
    "#最適化後の目的関数値\n",
    "print('best_value:{}'.format(study.best_value))\n",
    "print('====================')\n",
    "\n",
    "#最適な試行\n",
    "print('best_trial:{}'.format(study.best_trial))\n",
    "print('====================')\n",
    "\n",
    "# トライアルごとの結果を確認\n",
    "for i in study.trials:\n",
    "    print('param:{0}, eval_value:{1}'.format(i[5], i[2]))\n",
    "print('====================')\n",
    "\n",
    "#全試行の確認\n",
    "# print('all_trial:{}'.format(study.trials))"
   ]
  },
  {
   "cell_type": "markdown",
   "metadata": {},
   "source": [
    "# 試行結果をCSV出力"
   ]
  },
  {
   "cell_type": "code",
   "execution_count": 88,
   "metadata": {},
   "outputs": [],
   "source": [
    "study.trials_dataframe().to_csv(\"study_history.csv\")"
   ]
  },
  {
   "cell_type": "markdown",
   "metadata": {},
   "source": [
    "# 学習結果をデータとして保存して次回の学習時に利用できるようにする（warmstart）\n",
    "\n",
    "[学習結果の保存](https://optuna.readthedocs.io/en/stable/tutorial/rdb.html#saving-resuming-study-with-rdb-backend)  "
   ]
  },
  {
   "cell_type": "code",
   "execution_count": 37,
   "metadata": {},
   "outputs": [
    {
     "name": "stderr",
     "output_type": "stream",
     "text": [
      "[I 2019-01-16 05:52:59,829] A new study created with name: rfr_20190116_3\n",
      "[Parallel(n_jobs=-1)]: Using backend ThreadingBackend with 4 concurrent workers.\n",
      "[Parallel(n_jobs=-1)]: Using backend ThreadingBackend with 4 concurrent workers.\n",
      "[Parallel(n_jobs=-1)]: Using backend ThreadingBackend with 4 concurrent workers.\n",
      "[Parallel(n_jobs=-1)]: Done  11 out of  11 | elapsed:   56.6s finished\n",
      "/home/ec2-user/anaconda3/envs/python3/lib/python3.6/site-packages/sklearn/ensemble/base.py:154: UserWarning: Loky-backed parallel loops cannot be nested below threads, setting n_jobs=1\n",
      "  n_jobs = min(effective_n_jobs(n_jobs), n_estimators)\n",
      "[Parallel(n_jobs=1)]: Using backend SequentialBackend with 1 concurrent workers.\n",
      "[Parallel(n_jobs=1)]: Done  11 out of  11 | elapsed:    0.2s finished\n",
      "[Parallel(n_jobs=-1)]: Using backend ThreadingBackend with 4 concurrent workers.\n",
      "[Parallel(n_jobs=-1)]: Done  14 out of  14 | elapsed:  3.2min finished\n",
      "/home/ec2-user/anaconda3/envs/python3/lib/python3.6/site-packages/sklearn/ensemble/base.py:154: UserWarning: Loky-backed parallel loops cannot be nested below threads, setting n_jobs=1\n",
      "  n_jobs = min(effective_n_jobs(n_jobs), n_estimators)\n",
      "[Parallel(n_jobs=1)]: Using backend SequentialBackend with 1 concurrent workers.\n",
      "[Parallel(n_jobs=1)]: Done  14 out of  14 | elapsed:    0.3s finished\n",
      "[Parallel(n_jobs=-1)]: Using backend ThreadingBackend with 4 concurrent workers.\n",
      "[Parallel(n_jobs=-1)]: Done  11 out of  11 | elapsed:  1.1min finished\n",
      "/home/ec2-user/anaconda3/envs/python3/lib/python3.6/site-packages/sklearn/ensemble/base.py:154: UserWarning: Loky-backed parallel loops cannot be nested below threads, setting n_jobs=1\n",
      "  n_jobs = min(effective_n_jobs(n_jobs), n_estimators)\n",
      "[Parallel(n_jobs=1)]: Using backend SequentialBackend with 1 concurrent workers.\n",
      "[Parallel(n_jobs=1)]: Done  11 out of  11 | elapsed:    0.1s finished\n",
      "[Parallel(n_jobs=-1)]: Using backend ThreadingBackend with 4 concurrent workers.\n",
      "[Parallel(n_jobs=-1)]: Done  17 out of  17 | elapsed:  1.7min finished\n",
      "/home/ec2-user/anaconda3/envs/python3/lib/python3.6/site-packages/sklearn/ensemble/base.py:154: UserWarning: Loky-backed parallel loops cannot be nested below threads, setting n_jobs=1\n",
      "  n_jobs = min(effective_n_jobs(n_jobs), n_estimators)\n",
      "[Parallel(n_jobs=1)]: Using backend SequentialBackend with 1 concurrent workers.\n",
      "[Parallel(n_jobs=1)]: Done  17 out of  17 | elapsed:    0.2s finished\n",
      "[I 2019-01-16 05:54:41,613] Finished a trial resulted in value: 0.9974512094323161. Current best value is 0.9974512094323161 with parameters: {'max_depth': 3, 'max_features': 'log2', 'n_estimators': 17}.\n",
      "[Parallel(n_jobs=-1)]: Done  19 out of  19 | elapsed:  3.7min finished\n",
      "/home/ec2-user/anaconda3/envs/python3/lib/python3.6/site-packages/sklearn/ensemble/base.py:154: UserWarning: Loky-backed parallel loops cannot be nested below threads, setting n_jobs=1\n",
      "  n_jobs = min(effective_n_jobs(n_jobs), n_estimators)\n",
      "[Parallel(n_jobs=1)]: Using backend SequentialBackend with 1 concurrent workers.\n",
      "[Parallel(n_jobs=1)]: Done  19 out of  19 | elapsed:    0.3s finished\n",
      "[Parallel(n_jobs=-1)]: Using backend ThreadingBackend with 4 concurrent workers.\n",
      "[Parallel(n_jobs=-1)]: Done  19 out of  19 | elapsed:  2.2min finished\n",
      "/home/ec2-user/anaconda3/envs/python3/lib/python3.6/site-packages/sklearn/ensemble/base.py:154: UserWarning: Loky-backed parallel loops cannot be nested below threads, setting n_jobs=1\n",
      "  n_jobs = min(effective_n_jobs(n_jobs), n_estimators)\n",
      "[Parallel(n_jobs=1)]: Using backend SequentialBackend with 1 concurrent workers.\n",
      "[Parallel(n_jobs=1)]: Done  19 out of  19 | elapsed:    0.3s finished\n",
      "[I 2019-01-16 05:55:12,697] Finished a trial resulted in value: 0.995792093626058. Current best value is 0.995792093626058 with parameters: {'max_depth': 4, 'max_features': 'sqrt', 'n_estimators': 19}.\n",
      "[Parallel(n_jobs=-1)]: Done  20 out of  20 | elapsed:  3.7min finished\n",
      "/home/ec2-user/anaconda3/envs/python3/lib/python3.6/site-packages/sklearn/ensemble/base.py:154: UserWarning: Loky-backed parallel loops cannot be nested below threads, setting n_jobs=1\n",
      "  n_jobs = min(effective_n_jobs(n_jobs), n_estimators)\n",
      "[Parallel(n_jobs=1)]: Using backend SequentialBackend with 1 concurrent workers.\n",
      "[Parallel(n_jobs=1)]: Done  20 out of  20 | elapsed:    0.3s finished\n",
      "[Parallel(n_jobs=-1)]: Using backend ThreadingBackend with 4 concurrent workers.\n",
      "[Parallel(n_jobs=-1)]: Done  10 out of  10 | elapsed:  2.4min finished\n",
      "/home/ec2-user/anaconda3/envs/python3/lib/python3.6/site-packages/sklearn/ensemble/base.py:154: UserWarning: Loky-backed parallel loops cannot be nested below threads, setting n_jobs=1\n",
      "  n_jobs = min(effective_n_jobs(n_jobs), n_estimators)\n",
      "[Parallel(n_jobs=1)]: Using backend SequentialBackend with 1 concurrent workers.\n",
      "[Parallel(n_jobs=1)]: Done  10 out of  10 | elapsed:    0.1s finished\n",
      "[I 2019-01-16 05:55:24,879] Finished a trial resulted in value: 0.9834045322984449. Current best value is 0.9834045322984449 with parameters: {'max_depth': 4, 'max_features': 'auto', 'n_estimators': 10}.\n"
     ]
    },
    {
     "name": "stdout",
     "output_type": "stream",
     "text": [
      "CPU times: user 9min 35s, sys: 1.6 s, total: 9min 36s\n",
      "Wall time: 2min 25s\n"
     ]
    },
    {
     "name": "stderr",
     "output_type": "stream",
     "text": [
      "[Parallel(n_jobs=-1)]: Done  11 out of  11 | elapsed:   53.5s finished\n",
      "/home/ec2-user/anaconda3/envs/python3/lib/python3.6/site-packages/sklearn/ensemble/base.py:154: UserWarning: Loky-backed parallel loops cannot be nested below threads, setting n_jobs=1\n",
      "  n_jobs = min(effective_n_jobs(n_jobs), n_estimators)\n",
      "[Parallel(n_jobs=1)]: Using backend SequentialBackend with 1 concurrent workers.\n",
      "[Parallel(n_jobs=1)]: Done  11 out of  11 | elapsed:    0.1s finished\n",
      "[Parallel(n_jobs=-1)]: Using backend ThreadingBackend with 4 concurrent workers.\n"
     ]
    }
   ],
   "source": [
    "%%time\n",
    "\n",
    "study_name = 'rfr_20190116_3'  # Unique identifier of the study.\n",
    "study = optuna.create_study(study_name=study_name, storage='sqlite:///rfr_20190116-3.db')\n",
    "\n",
    "# 学習の実行\n",
    "# https://optuna.readthedocs.io/en/stable/reference/study.html#optuna.study.Study.optimize\n",
    "study.optimize(func=objective, # 実行する関数\n",
    "               n_trials=3, # HPO試行回数\n",
    "               timeout=None, # 与えられた秒数後に学習を中止します。default=None\n",
    "               n_jobs=-1 # 並列実行するjob数\n",
    "              )"
   ]
  },
  {
   "cell_type": "code",
   "execution_count": 39,
   "metadata": {},
   "outputs": [
    {
     "data": {
      "text/plain": [
       "[FrozenTrial(trial_id=1, state=<TrialState.COMPLETE: 1>, value=0.9834045322984449, datetime_start=datetime.datetime(2019, 1, 16, 5, 53, 0, 36945), datetime_complete=datetime.datetime(2019, 1, 16, 5, 55, 24, 746160), params={'max_depth': 4, 'max_features': 'auto', 'n_estimators': 10}, user_attrs={}, system_attrs={}, intermediate_values={0: 0.9834045322984449}, params_in_internal_repr={'max_depth': 4.0, 'max_features': 1.0, 'n_estimators': 10.0}),\n",
       " FrozenTrial(trial_id=2, state=<TrialState.COMPLETE: 1>, value=0.9974512094323161, datetime_start=datetime.datetime(2019, 1, 16, 5, 53, 0, 39984), datetime_complete=datetime.datetime(2019, 1, 16, 5, 54, 41, 437985), params={'max_depth': 3, 'max_features': 'log2', 'n_estimators': 17}, user_attrs={}, system_attrs={}, intermediate_values={0: 0.9974512094323161}, params_in_internal_repr={'max_depth': 3.0, 'max_features': 2.0, 'n_estimators': 17.0}),\n",
       " FrozenTrial(trial_id=3, state=<TrialState.COMPLETE: 1>, value=0.995792093626058, datetime_start=datetime.datetime(2019, 1, 16, 5, 53, 0, 39082), datetime_complete=datetime.datetime(2019, 1, 16, 5, 55, 12, 517797), params={'max_depth': 4, 'max_features': 'sqrt', 'n_estimators': 19}, user_attrs={}, system_attrs={}, intermediate_values={0: 0.995792093626058}, params_in_internal_repr={'max_depth': 4.0, 'max_features': 0.0, 'n_estimators': 19.0})]"
      ]
     },
     "execution_count": 39,
     "metadata": {},
     "output_type": "execute_result"
    },
    {
     "name": "stderr",
     "output_type": "stream",
     "text": [
      "[Parallel(n_jobs=-1)]: Done  66 out of  66 | elapsed: 20.6min finished\n",
      "/home/ec2-user/anaconda3/envs/python3/lib/python3.6/site-packages/sklearn/ensemble/base.py:154: UserWarning: Loky-backed parallel loops cannot be nested below threads, setting n_jobs=1\n",
      "  n_jobs = min(effective_n_jobs(n_jobs), n_estimators)\n",
      "[Parallel(n_jobs=1)]: Using backend SequentialBackend with 1 concurrent workers.\n",
      "[Parallel(n_jobs=1)]: Done  66 out of  66 | elapsed:    1.6s finished\n",
      "[Parallel(n_jobs=-1)]: Using backend ThreadingBackend with 4 concurrent workers.\n",
      "[Parallel(n_jobs=-1)]: Done  11 out of  11 | elapsed:   44.8s finished\n",
      "/home/ec2-user/anaconda3/envs/python3/lib/python3.6/site-packages/sklearn/ensemble/base.py:154: UserWarning: Loky-backed parallel loops cannot be nested below threads, setting n_jobs=1\n",
      "  n_jobs = min(effective_n_jobs(n_jobs), n_estimators)\n",
      "[Parallel(n_jobs=1)]: Using backend SequentialBackend with 1 concurrent workers.\n",
      "[Parallel(n_jobs=1)]: Done  11 out of  11 | elapsed:    0.1s finished\n",
      "[Parallel(n_jobs=-1)]: Using backend ThreadingBackend with 4 concurrent workers.\n",
      "[Parallel(n_jobs=-1)]: Done  42 tasks      | elapsed:  5.8min\n"
     ]
    }
   ],
   "source": [
    "# 学習結果の確認\n",
    "\n",
    "study.trials"
   ]
  },
  {
   "cell_type": "code",
   "execution_count": 41,
   "metadata": {},
   "outputs": [
    {
     "name": "stderr",
     "output_type": "stream",
     "text": [
      "[Parallel(n_jobs=-1)]: Using backend ThreadingBackend with 4 concurrent workers.\n",
      "[Parallel(n_jobs=-1)]: Using backend ThreadingBackend with 4 concurrent workers.\n",
      "[Parallel(n_jobs=-1)]: Using backend ThreadingBackend with 4 concurrent workers.\n",
      "[Parallel(n_jobs=-1)]: Using backend ThreadingBackend with 4 concurrent workers.\n",
      "[Parallel(n_jobs=-1)]: Done  11 out of  11 | elapsed:  1.1min finished\n",
      "/home/ec2-user/anaconda3/envs/python3/lib/python3.6/site-packages/sklearn/ensemble/base.py:154: UserWarning: Loky-backed parallel loops cannot be nested below threads, setting n_jobs=1\n",
      "  n_jobs = min(effective_n_jobs(n_jobs), n_estimators)\n",
      "[Parallel(n_jobs=1)]: Using backend SequentialBackend with 1 concurrent workers.\n",
      "[Parallel(n_jobs=1)]: Done  11 out of  11 | elapsed:    0.4s finished\n",
      "[Parallel(n_jobs=-1)]: Using backend ThreadingBackend with 4 concurrent workers.\n",
      "[Parallel(n_jobs=-1)]: Done  19 out of  19 | elapsed:  3.6min finished\n",
      "/home/ec2-user/anaconda3/envs/python3/lib/python3.6/site-packages/sklearn/ensemble/base.py:154: UserWarning: Loky-backed parallel loops cannot be nested below threads, setting n_jobs=1\n",
      "  n_jobs = min(effective_n_jobs(n_jobs), n_estimators)\n",
      "[Parallel(n_jobs=1)]: Using backend SequentialBackend with 1 concurrent workers.\n",
      "[Parallel(n_jobs=1)]: Done  19 out of  19 | elapsed:    0.3s finished\n",
      "[Parallel(n_jobs=-1)]: Using backend ThreadingBackend with 4 concurrent workers.\n",
      "[Parallel(n_jobs=-1)]: Done  16 out of  16 | elapsed:  1.7min finished\n",
      "/home/ec2-user/anaconda3/envs/python3/lib/python3.6/site-packages/sklearn/ensemble/base.py:154: UserWarning: Loky-backed parallel loops cannot be nested below threads, setting n_jobs=1\n",
      "  n_jobs = min(effective_n_jobs(n_jobs), n_estimators)\n",
      "[Parallel(n_jobs=1)]: Using backend SequentialBackend with 1 concurrent workers.\n",
      "[Parallel(n_jobs=1)]: Done  16 out of  16 | elapsed:    0.2s finished\n",
      "[I 2019-01-16 05:59:06,025] Finished a trial resulted in value: 0.9979310752673984. Current best value is 0.9834045322984449 with parameters: {'max_depth': 4, 'max_features': 'auto', 'n_estimators': 10}.\n",
      "[Parallel(n_jobs=-1)]: Using backend ThreadingBackend with 4 concurrent workers.\n",
      "[Parallel(n_jobs=-1)]: Done  20 out of  20 | elapsed:  3.8min finished\n",
      "/home/ec2-user/anaconda3/envs/python3/lib/python3.6/site-packages/sklearn/ensemble/base.py:154: UserWarning: Loky-backed parallel loops cannot be nested below threads, setting n_jobs=1\n",
      "  n_jobs = min(effective_n_jobs(n_jobs), n_estimators)\n",
      "[Parallel(n_jobs=1)]: Using backend SequentialBackend with 1 concurrent workers.\n",
      "[Parallel(n_jobs=1)]: Done  20 out of  20 | elapsed:    0.4s finished\n",
      "[Parallel(n_jobs=-1)]: Using backend ThreadingBackend with 4 concurrent workers.\n",
      "[Parallel(n_jobs=-1)]: Done  13 out of  13 | elapsed:  1.9min finished\n",
      "/home/ec2-user/anaconda3/envs/python3/lib/python3.6/site-packages/sklearn/ensemble/base.py:154: UserWarning: Loky-backed parallel loops cannot be nested below threads, setting n_jobs=1\n",
      "  n_jobs = min(effective_n_jobs(n_jobs), n_estimators)\n",
      "[Parallel(n_jobs=1)]: Using backend SequentialBackend with 1 concurrent workers.\n",
      "[Parallel(n_jobs=1)]: Done  13 out of  13 | elapsed:    0.3s finished\n",
      "[I 2019-01-16 05:59:17,285] Finished a trial resulted in value: 0.9969097083211973. Current best value is 0.9834045322984449 with parameters: {'max_depth': 4, 'max_features': 'auto', 'n_estimators': 10}.\n",
      "[Parallel(n_jobs=-1)]: Done  11 out of  11 | elapsed:  1.2min finished\n",
      "/home/ec2-user/anaconda3/envs/python3/lib/python3.6/site-packages/sklearn/ensemble/base.py:154: UserWarning: Loky-backed parallel loops cannot be nested below threads, setting n_jobs=1\n",
      "  n_jobs = min(effective_n_jobs(n_jobs), n_estimators)\n",
      "[Parallel(n_jobs=1)]: Using backend SequentialBackend with 1 concurrent workers.\n",
      "[Parallel(n_jobs=1)]: Done  11 out of  11 | elapsed:    0.2s finished\n",
      "[Parallel(n_jobs=-1)]: Using backend ThreadingBackend with 4 concurrent workers.\n",
      "[Parallel(n_jobs=-1)]: Done  16 out of  16 | elapsed:  2.5min finished\n",
      "/home/ec2-user/anaconda3/envs/python3/lib/python3.6/site-packages/sklearn/ensemble/base.py:154: UserWarning: Loky-backed parallel loops cannot be nested below threads, setting n_jobs=1\n",
      "  n_jobs = min(effective_n_jobs(n_jobs), n_estimators)\n",
      "[Parallel(n_jobs=1)]: Using backend SequentialBackend with 1 concurrent workers.\n",
      "[Parallel(n_jobs=1)]: Done  16 out of  16 | elapsed:    0.3s finished\n",
      "[I 2019-01-16 05:59:54,582] Finished a trial resulted in value: 0.9530992519881656. Current best value is 0.9530992519881656 with parameters: {'max_depth': 5, 'max_features': 'log2', 'n_estimators': 16}.\n",
      "[Parallel(n_jobs=-1)]: Done  11 out of  11 | elapsed:  1.0min finished\n",
      "/home/ec2-user/anaconda3/envs/python3/lib/python3.6/site-packages/sklearn/ensemble/base.py:154: UserWarning: Loky-backed parallel loops cannot be nested below threads, setting n_jobs=1\n",
      "  n_jobs = min(effective_n_jobs(n_jobs), n_estimators)\n",
      "[Parallel(n_jobs=1)]: Using backend SequentialBackend with 1 concurrent workers.\n",
      "[Parallel(n_jobs=1)]: Done  11 out of  11 | elapsed:    0.1s finished\n",
      "[Parallel(n_jobs=-1)]: Using backend ThreadingBackend with 4 concurrent workers.\n",
      "[Parallel(n_jobs=-1)]: Done  14 out of  14 | elapsed:  4.1min finished\n",
      "/home/ec2-user/anaconda3/envs/python3/lib/python3.6/site-packages/sklearn/ensemble/base.py:154: UserWarning: Loky-backed parallel loops cannot be nested below threads, setting n_jobs=1\n",
      "  n_jobs = min(effective_n_jobs(n_jobs), n_estimators)\n",
      "[Parallel(n_jobs=1)]: Using backend SequentialBackend with 1 concurrent workers.\n",
      "[Parallel(n_jobs=1)]: Done  14 out of  14 | elapsed:    0.3s finished\n",
      "[Parallel(n_jobs=-1)]: Using backend ThreadingBackend with 4 concurrent workers.\n",
      "[Parallel(n_jobs=-1)]: Done  19 out of  19 | elapsed:  2.2min finished\n",
      "/home/ec2-user/anaconda3/envs/python3/lib/python3.6/site-packages/sklearn/ensemble/base.py:154: UserWarning: Loky-backed parallel loops cannot be nested below threads, setting n_jobs=1\n",
      "  n_jobs = min(effective_n_jobs(n_jobs), n_estimators)\n",
      "[Parallel(n_jobs=1)]: Using backend SequentialBackend with 1 concurrent workers.\n",
      "[Parallel(n_jobs=1)]: Done  19 out of  19 | elapsed:    0.3s finished\n",
      "[I 2019-01-16 06:01:22,186] Finished a trial resulted in value: 0.9957329903721813. Current best value is 0.9530992519881656 with parameters: {'max_depth': 5, 'max_features': 'log2', 'n_estimators': 16}.\n",
      "[Parallel(n_jobs=-1)]: Done  11 out of  11 | elapsed:   56.9s finished\n",
      "/home/ec2-user/anaconda3/envs/python3/lib/python3.6/site-packages/sklearn/ensemble/base.py:154: UserWarning: Loky-backed parallel loops cannot be nested below threads, setting n_jobs=1\n",
      "  n_jobs = min(effective_n_jobs(n_jobs), n_estimators)\n",
      "[Parallel(n_jobs=1)]: Using backend SequentialBackend with 1 concurrent workers.\n",
      "[Parallel(n_jobs=1)]: Done  11 out of  11 | elapsed:    0.1s finished\n",
      "[Parallel(n_jobs=-1)]: Using backend ThreadingBackend with 4 concurrent workers.\n",
      "[Parallel(n_jobs=-1)]: Done  11 out of  11 | elapsed:   50.1s finished\n",
      "/home/ec2-user/anaconda3/envs/python3/lib/python3.6/site-packages/sklearn/ensemble/base.py:154: UserWarning: Loky-backed parallel loops cannot be nested below threads, setting n_jobs=1\n",
      "  n_jobs = min(effective_n_jobs(n_jobs), n_estimators)\n",
      "[Parallel(n_jobs=1)]: Using backend SequentialBackend with 1 concurrent workers.\n",
      "[Parallel(n_jobs=1)]: Done  11 out of  11 | elapsed:    0.1s finished\n",
      "[Parallel(n_jobs=-1)]: Using backend ThreadingBackend with 4 concurrent workers.\n",
      "[Parallel(n_jobs=-1)]: Done  18 out of  18 | elapsed:  5.0min finished\n",
      "/home/ec2-user/anaconda3/envs/python3/lib/python3.6/site-packages/sklearn/ensemble/base.py:154: UserWarning: Loky-backed parallel loops cannot be nested below threads, setting n_jobs=1\n",
      "  n_jobs = min(effective_n_jobs(n_jobs), n_estimators)\n",
      "[Parallel(n_jobs=1)]: Using backend SequentialBackend with 1 concurrent workers.\n",
      "[Parallel(n_jobs=1)]: Done  18 out of  18 | elapsed:    0.4s finished\n",
      "[I 2019-01-16 06:02:22,055] Finished a trial resulted in value: 0.9870243594836171. Current best value is 0.9530992519881656 with parameters: {'max_depth': 5, 'max_features': 'log2', 'n_estimators': 16}.\n",
      "[Parallel(n_jobs=-1)]: Done  19 out of  19 | elapsed:  4.0min finished\n",
      "/home/ec2-user/anaconda3/envs/python3/lib/python3.6/site-packages/sklearn/ensemble/base.py:154: UserWarning: Loky-backed parallel loops cannot be nested below threads, setting n_jobs=1\n",
      "  n_jobs = min(effective_n_jobs(n_jobs), n_estimators)\n",
      "[Parallel(n_jobs=1)]: Using backend SequentialBackend with 1 concurrent workers.\n",
      "[Parallel(n_jobs=1)]: Done  19 out of  19 | elapsed:    0.2s finished\n",
      "[Parallel(n_jobs=-1)]: Using backend ThreadingBackend with 4 concurrent workers.\n"
     ]
    }
   ],
   "source": [
    "# 学習結果の再利用\n",
    "\n",
    "study = optuna.Study(study_name='rfr_20190116_3', storage='sqlite:///rfr_20190116-3.db') # 再利用する学習の「名前」、「ストレージ」を指定。\n",
    "# https://optuna.readthedocs.io/en/stable/reference/study.html#optuna.study.Study.optimize\n",
    "study.optimize(func=objective, # 実行する関数\n",
    "               n_trials=5, # HPO試行回数\n",
    "               timeout=None, # 与えられた秒数後に学習を中止します。default=None\n",
    "               n_jobs=-1 # 並列実行するjob数\n",
    "              )"
   ]
  },
  {
   "cell_type": "code",
   "execution_count": 42,
   "metadata": {},
   "outputs": [
    {
     "data": {
      "text/plain": [
       "[FrozenTrial(trial_id=1, state=<TrialState.COMPLETE: 1>, value=0.9834045322984449, datetime_start=datetime.datetime(2019, 1, 16, 5, 53, 0, 36945), datetime_complete=datetime.datetime(2019, 1, 16, 5, 55, 24, 746160), params={'max_depth': 4, 'max_features': 'auto', 'n_estimators': 10}, user_attrs={}, system_attrs={}, intermediate_values={0: 0.9834045322984449}, params_in_internal_repr={'max_depth': 4.0, 'max_features': 1.0, 'n_estimators': 10.0}),\n",
       " FrozenTrial(trial_id=2, state=<TrialState.COMPLETE: 1>, value=0.9974512094323161, datetime_start=datetime.datetime(2019, 1, 16, 5, 53, 0, 39984), datetime_complete=datetime.datetime(2019, 1, 16, 5, 54, 41, 437985), params={'max_depth': 3, 'max_features': 'log2', 'n_estimators': 17}, user_attrs={}, system_attrs={}, intermediate_values={0: 0.9974512094323161}, params_in_internal_repr={'max_depth': 3.0, 'max_features': 2.0, 'n_estimators': 17.0}),\n",
       " FrozenTrial(trial_id=3, state=<TrialState.COMPLETE: 1>, value=0.995792093626058, datetime_start=datetime.datetime(2019, 1, 16, 5, 53, 0, 39082), datetime_complete=datetime.datetime(2019, 1, 16, 5, 55, 12, 517797), params={'max_depth': 4, 'max_features': 'sqrt', 'n_estimators': 19}, user_attrs={}, system_attrs={}, intermediate_values={0: 0.995792093626058}, params_in_internal_repr={'max_depth': 4.0, 'max_features': 0.0, 'n_estimators': 19.0}),\n",
       " FrozenTrial(trial_id=4, state=<TrialState.COMPLETE: 1>, value=0.9530992519881656, datetime_start=datetime.datetime(2019, 1, 16, 5, 57, 20, 573291), datetime_complete=datetime.datetime(2019, 1, 16, 5, 59, 54, 369995), params={'max_depth': 5, 'max_features': 'log2', 'n_estimators': 16}, user_attrs={}, system_attrs={}, intermediate_values={0: 0.9530992519881656}, params_in_internal_repr={'max_depth': 5.0, 'max_features': 2.0, 'n_estimators': 16.0}),\n",
       " FrozenTrial(trial_id=5, state=<TrialState.COMPLETE: 1>, value=0.9969097083211973, datetime_start=datetime.datetime(2019, 1, 16, 5, 57, 20, 576556), datetime_complete=datetime.datetime(2019, 1, 16, 5, 59, 17, 50816), params={'max_depth': 4, 'max_features': 'log2', 'n_estimators': 13}, user_attrs={}, system_attrs={}, intermediate_values={0: 0.9969097083211973}, params_in_internal_repr={'max_depth': 4.0, 'max_features': 2.0, 'n_estimators': 13.0}),\n",
       " FrozenTrial(trial_id=6, state=<TrialState.COMPLETE: 1>, value=0.9870243594836171, datetime_start=datetime.datetime(2019, 1, 16, 5, 57, 20, 575016), datetime_complete=datetime.datetime(2019, 1, 16, 6, 2, 21, 834934), params={'max_depth': 5, 'max_features': 'auto', 'n_estimators': 18}, user_attrs={}, system_attrs={}, intermediate_values={0: 0.9870243594836171}, params_in_internal_repr={'max_depth': 5.0, 'max_features': 1.0, 'n_estimators': 18.0}),\n",
       " FrozenTrial(trial_id=7, state=<TrialState.COMPLETE: 1>, value=0.9979310752673984, datetime_start=datetime.datetime(2019, 1, 16, 5, 57, 20, 575833), datetime_complete=datetime.datetime(2019, 1, 16, 5, 59, 5, 811561), params={'max_depth': 3, 'max_features': 'log2', 'n_estimators': 16}, user_attrs={}, system_attrs={}, intermediate_values={0: 0.9979310752673984}, params_in_internal_repr={'max_depth': 3.0, 'max_features': 2.0, 'n_estimators': 16.0}),\n",
       " FrozenTrial(trial_id=8, state=<TrialState.COMPLETE: 1>, value=0.9957329903721813, datetime_start=datetime.datetime(2019, 1, 16, 5, 59, 6, 68035), datetime_complete=datetime.datetime(2019, 1, 16, 6, 1, 22, 22091), params={'max_depth': 4, 'max_features': 'sqrt', 'n_estimators': 19}, user_attrs={}, system_attrs={}, intermediate_values={0: 0.9957329903721813}, params_in_internal_repr={'max_depth': 4.0, 'max_features': 0.0, 'n_estimators': 19.0})]"
      ]
     },
     "execution_count": 42,
     "metadata": {},
     "output_type": "execute_result"
    },
    {
     "name": "stderr",
     "output_type": "stream",
     "text": [
      "[Parallel(n_jobs=-1)]: Done  20 out of  20 | elapsed:  3.7min finished\n",
      "/home/ec2-user/anaconda3/envs/python3/lib/python3.6/site-packages/sklearn/ensemble/base.py:154: UserWarning: Loky-backed parallel loops cannot be nested below threads, setting n_jobs=1\n",
      "  n_jobs = min(effective_n_jobs(n_jobs), n_estimators)\n",
      "[Parallel(n_jobs=1)]: Using backend SequentialBackend with 1 concurrent workers.\n",
      "[Parallel(n_jobs=1)]: Done  20 out of  20 | elapsed:    0.2s finished\n",
      "[Parallel(n_jobs=-1)]: Using backend ThreadingBackend with 4 concurrent workers.\n",
      "[Parallel(n_jobs=-1)]: Done  88 out of  88 | elapsed: 12.4min finished\n",
      "/home/ec2-user/anaconda3/envs/python3/lib/python3.6/site-packages/sklearn/ensemble/base.py:154: UserWarning: Loky-backed parallel loops cannot be nested below threads, setting n_jobs=1\n",
      "  n_jobs = min(effective_n_jobs(n_jobs), n_estimators)\n",
      "[Parallel(n_jobs=1)]: Using backend SequentialBackend with 1 concurrent workers.\n",
      "[Parallel(n_jobs=-1)]: Done  11 out of  11 | elapsed:   47.9s finished\n",
      "/home/ec2-user/anaconda3/envs/python3/lib/python3.6/site-packages/sklearn/ensemble/base.py:154: UserWarning: Loky-backed parallel loops cannot be nested below threads, setting n_jobs=1\n",
      "  n_jobs = min(effective_n_jobs(n_jobs), n_estimators)\n",
      "[Parallel(n_jobs=1)]: Using backend SequentialBackend with 1 concurrent workers.\n",
      "[Parallel(n_jobs=1)]: Done  11 out of  11 | elapsed:    0.1s finished\n",
      "[Parallel(n_jobs=1)]: Done  88 out of  88 | elapsed:    1.6s finished\n",
      "[Parallel(n_jobs=-1)]: Using backend ThreadingBackend with 4 concurrent workers.\n",
      "[Parallel(n_jobs=-1)]: Using backend ThreadingBackend with 4 concurrent workers.\n",
      "[Parallel(n_jobs=-1)]: Done  11 out of  11 | elapsed:   47.8s finished\n",
      "/home/ec2-user/anaconda3/envs/python3/lib/python3.6/site-packages/sklearn/ensemble/base.py:154: UserWarning: Loky-backed parallel loops cannot be nested below threads, setting n_jobs=1\n",
      "  n_jobs = min(effective_n_jobs(n_jobs), n_estimators)\n",
      "[Parallel(n_jobs=1)]: Using backend SequentialBackend with 1 concurrent workers.\n",
      "[Parallel(n_jobs=1)]: Done  11 out of  11 | elapsed:    0.1s finished\n",
      "[Parallel(n_jobs=-1)]: Using backend ThreadingBackend with 4 concurrent workers.\n"
     ]
    }
   ],
   "source": [
    "# 学習結果の確認\n",
    "\n",
    "study.trials"
   ]
  },
  {
   "cell_type": "markdown",
   "metadata": {},
   "source": [
    "ちゃんと前回の学習結果を引き継げていることが確認できた"
   ]
  },
  {
   "cell_type": "markdown",
   "metadata": {},
   "source": [
    "# おまけ\n",
    "\n",
    "xgboostで「試行の枝刈り」、「学習結果を再利用できる」ようにした状態のスクリプト"
   ]
  },
  {
   "cell_type": "code",
   "execution_count": 2,
   "metadata": {},
   "outputs": [
    {
     "name": "stdout",
     "output_type": "stream",
     "text": [
      "Collecting xgboost\n",
      "\u001b[?25l  Downloading https://files.pythonhosted.org/packages/54/21/8b2ec99862903a6d3aed62ce156d21d114b8666e669c46d9e54041df9496/xgboost-0.81-py2.py3-none-manylinux1_x86_64.whl (16.6MB)\n",
      "\u001b[K    100% |████████████████████████████████| 16.6MB 2.9MB/s \n",
      "\u001b[?25hRequirement already satisfied: scipy in /home/ec2-user/anaconda3/envs/python3/lib/python3.6/site-packages (from xgboost) (1.1.0)\n",
      "Requirement already satisfied: numpy in /home/ec2-user/anaconda3/envs/python3/lib/python3.6/site-packages (from xgboost) (1.14.5)\n",
      "Installing collected packages: xgboost\n",
      "Successfully installed xgboost-0.81\n"
     ]
    }
   ],
   "source": [
    "!pip install xgboost"
   ]
  },
  {
   "cell_type": "code",
   "execution_count": 84,
   "metadata": {},
   "outputs": [
    {
     "name": "stdout",
     "output_type": "stream",
     "text": [
      "(2882335, 6)\n",
      "(2882335,)\n",
      "(53514, 6)\n",
      "(53514,)\n",
      "<class 'pandas.core.frame.DataFrame'>\n",
      "<class 'pandas.core.series.Series'>\n",
      "<class 'pandas.core.frame.DataFrame'>\n",
      "<class 'pandas.core.series.Series'>\n"
     ]
    }
   ],
   "source": [
    "# データの取り込み\n",
    "\n",
    "import pandas as pd\n",
    "\n",
    "X_train_selected = pd.read_csv('x_train_selected.csv', header=0)\n",
    "Y_train = pd.read_csv('y_train.csv', header=None)\n",
    "X_valid_selected = pd.read_csv('x_valid_selected.csv', header=0)\n",
    "Y_valid = pd.read_csv('y_valid.csv', header=None)\n",
    "\n",
    "Y_train = Y_train[1].astype('float16') # データ型がfloat64だとXGBoostのラベルとして利用できなかったので、変換しておく\n",
    "Y_valid = Y_valid[1].astype('float16')\n",
    "\n",
    "print(X_train_selected.shape)\n",
    "print(Y_train.shape)\n",
    "print(X_valid_selected.shape)\n",
    "print(Y_valid.shape)\n",
    "\n",
    "print(type(X_train_selected))\n",
    "print(type(Y_train))\n",
    "print(type(X_valid_selected))\n",
    "print(type(Y_valid))"
   ]
  },
  {
   "cell_type": "markdown",
   "metadata": {},
   "source": [
    "# 目的となる関数"
   ]
  },
  {
   "cell_type": "code",
   "execution_count": 112,
   "metadata": {},
   "outputs": [],
   "source": [
    "# 目的の関数を作成\n",
    "import numpy as np\n",
    "import sklearn.metrics\n",
    "from xgboost import XGBRegressor\n",
    "import optuna\n",
    "\n",
    "def objective(trial):\n",
    "    try:\n",
    "        cnt == cnt\n",
    "    except:\n",
    "        cnt = 0\n",
    "    \n",
    "    # hypyer param\n",
    "    max_depth = trial.suggest_int('max_depth', 3, 5) # 深すぎると過学習になるかも...\n",
    "    n_estimators = trial.suggest_int('n_estimators', 10, 20) # しっかりやるなら100以上がいいかも\n",
    "    \n",
    "    # callback\n",
    "    pruning_callback = optuna.integration.XGBoostPruningCallback(trial, 'validation-error')\n",
    "\n",
    "    # model\n",
    "    model = XGBRegressor(\n",
    "        max_depth=max_depth,\n",
    "        n_estimators=n_estimators,\n",
    "        min_child_weight=300, \n",
    "        colsample_bytree=0.8, \n",
    "        subsample=0.8, \n",
    "        eta=0.3, \n",
    "        n_jobs=-1,\n",
    "        seed=42,\n",
    "        callback=[pruning_callback]\n",
    "    )\n",
    "\n",
    "    # fit\n",
    "    model.fit(X_train_selected, \n",
    "              Y_train, \n",
    "              eval_metric=\"rmse\", \n",
    "              eval_set=[(X_train_selected, Y_train), (X_valid_selected, Y_valid)], \n",
    "              verbose=True, \n",
    "              early_stopping_rounds = 10)\n",
    "\n",
    "    # Report intermediate objective value.\n",
    "    score = model.evals_result()['validation_1']['rmse'][-1]\n",
    "    trial.report(score, cnt)\n",
    "\n",
    "    \n",
    "    # Handle pruning based on the intermediate value.\n",
    "    if trial.should_prune(cnt):\n",
    "        raise optuna.structs.TrialPruned()\n",
    "    \n",
    "    \n",
    "    cnt += 1\n",
    "    \n",
    "    # eval\n",
    "    return score"
   ]
  },
  {
   "cell_type": "markdown",
   "metadata": {},
   "source": [
    "# 実行\n",
    "\n",
    "学習履歴も残しておいて、再利用できるようにしておく"
   ]
  },
  {
   "cell_type": "code",
   "execution_count": 117,
   "metadata": {},
   "outputs": [
    {
     "name": "stderr",
     "output_type": "stream",
     "text": [
      "[I 2019-01-16 10:01:49,386] A new study created with name: xgbr_20190116\n"
     ]
    },
    {
     "name": "stdout",
     "output_type": "stream",
     "text": [
      "[0]\tvalidation_0-rmse:2.36737\tvalidation_1-rmse:9.7942\n",
      "Multiple eval metrics have been passed: 'validation_1-rmse' will be used for early stopping.\n",
      "\n",
      "Will train until validation_1-rmse hasn't improved in 10 rounds.\n",
      "[0]\tvalidation_0-rmse:2.36608\tvalidation_1-rmse:9.79431\n",
      "Multiple eval metrics have been passed: 'validation_1-rmse' will be used for early stopping.\n",
      "\n",
      "Will train until validation_1-rmse hasn't improved in 10 rounds.\n",
      "[0]\tvalidation_0-rmse:2.36608\tvalidation_1-rmse:9.79431\n",
      "Multiple eval metrics have been passed: 'validation_1-rmse' will be used for early stopping.\n",
      "\n",
      "Will train until validation_1-rmse hasn't improved in 10 rounds.\n",
      "[0]\tvalidation_0-rmse:2.36455\tvalidation_1-rmse:9.79214\n",
      "Multiple eval metrics have been passed: 'validation_1-rmse' will be used for early stopping.\n",
      "\n",
      "Will train until validation_1-rmse hasn't improved in 10 rounds.\n",
      "[1]\tvalidation_0-rmse:2.33682\tvalidation_1-rmse:9.78655\n",
      "[1]\tvalidation_0-rmse:2.33305\tvalidation_1-rmse:9.78387\n",
      "[1]\tvalidation_0-rmse:2.33305\tvalidation_1-rmse:9.78387\n",
      "[2]\tvalidation_0-rmse:2.31413\tvalidation_1-rmse:9.78169\n",
      "[1]\tvalidation_0-rmse:2.32769\tvalidation_1-rmse:9.78338\n",
      "[2]\tvalidation_0-rmse:2.30937\tvalidation_1-rmse:9.7779\n",
      "[2]\tvalidation_0-rmse:2.30937\tvalidation_1-rmse:9.7779\n",
      "[3]\tvalidation_0-rmse:2.29284\tvalidation_1-rmse:9.77623\n",
      "[2]\tvalidation_0-rmse:2.30206\tvalidation_1-rmse:9.77718\n",
      "[3]\tvalidation_0-rmse:2.28587\tvalidation_1-rmse:9.77024\n",
      "[4]\tvalidation_0-rmse:2.27527\tvalidation_1-rmse:9.7718\n",
      "[3]\tvalidation_0-rmse:2.28587\tvalidation_1-rmse:9.77024\n",
      "[5]\tvalidation_0-rmse:2.26256\tvalidation_1-rmse:9.76921\n",
      "[4]\tvalidation_0-rmse:2.26564\tvalidation_1-rmse:9.76573\n",
      "[4]\tvalidation_0-rmse:2.26564\tvalidation_1-rmse:9.76573\n",
      "[3]\tvalidation_0-rmse:2.27493\tvalidation_1-rmse:9.76779\n",
      "[6]\tvalidation_0-rmse:2.25041\tvalidation_1-rmse:9.76628\n",
      "[5]\tvalidation_0-rmse:2.25196\tvalidation_1-rmse:9.76329\n",
      "[5]\tvalidation_0-rmse:2.25196\tvalidation_1-rmse:9.76329\n",
      "[4]\tvalidation_0-rmse:2.25215\tvalidation_1-rmse:9.76038\n",
      "[7]\tvalidation_0-rmse:2.24076\tvalidation_1-rmse:9.7638\n",
      "[6]\tvalidation_0-rmse:2.23764\tvalidation_1-rmse:9.75944\n",
      "[6]\tvalidation_0-rmse:2.23764\tvalidation_1-rmse:9.75944\n",
      "[8]\tvalidation_0-rmse:2.23258\tvalidation_1-rmse:9.76189\n",
      "[5]\tvalidation_0-rmse:2.23822\tvalidation_1-rmse:9.75541\n",
      "[7]\tvalidation_0-rmse:2.22588\tvalidation_1-rmse:9.75664\n",
      "[9]\tvalidation_0-rmse:2.22665\tvalidation_1-rmse:9.75956\n",
      "[7]\tvalidation_0-rmse:2.22588\tvalidation_1-rmse:9.75664\n",
      "[10]\tvalidation_0-rmse:2.22196\tvalidation_1-rmse:9.75796\n",
      "[8]\tvalidation_0-rmse:2.21693\tvalidation_1-rmse:9.75475\n",
      "[6]\tvalidation_0-rmse:2.2215\tvalidation_1-rmse:9.75217\n",
      "[8]\tvalidation_0-rmse:2.21693\tvalidation_1-rmse:9.75475\n",
      "[11]\tvalidation_0-rmse:2.21712\tvalidation_1-rmse:9.75695\n",
      "[9]\tvalidation_0-rmse:2.20958\tvalidation_1-rmse:9.7536\n"
     ]
    },
    {
     "name": "stderr",
     "output_type": "stream",
     "text": [
      "[I 2019-01-16 10:02:32,387] Finished a trial resulted in value: 9.753597. Current best value is 9.753597 with parameters: {'max_depth': 4, 'n_estimators': 10}.\n"
     ]
    },
    {
     "name": "stdout",
     "output_type": "stream",
     "text": [
      "[7]\tvalidation_0-rmse:2.20815\tvalidation_1-rmse:9.74987\n",
      "[9]\tvalidation_0-rmse:2.20958\tvalidation_1-rmse:9.7536\n",
      "[10]\tvalidation_0-rmse:2.20404\tvalidation_1-rmse:9.7523\n",
      "[12]\tvalidation_0-rmse:2.21378\tvalidation_1-rmse:9.75649\n",
      "[8]\tvalidation_0-rmse:2.19748\tvalidation_1-rmse:9.74787\n",
      "[13]\tvalidation_0-rmse:2.20921\tvalidation_1-rmse:9.75546\n",
      "[11]\tvalidation_0-rmse:2.19789\tvalidation_1-rmse:9.74974\n",
      "[9]\tvalidation_0-rmse:2.19009\tvalidation_1-rmse:9.74674\n",
      "[14]\tvalidation_0-rmse:2.20646\tvalidation_1-rmse:9.75129\n",
      "[12]\tvalidation_0-rmse:2.19357\tvalidation_1-rmse:9.74683\n",
      "[10]\tvalidation_0-rmse:2.18358\tvalidation_1-rmse:9.74586\n",
      "[0]\tvalidation_0-rmse:2.36608\tvalidation_1-rmse:9.79431\n",
      "Multiple eval metrics have been passed: 'validation_1-rmse' will be used for early stopping.\n",
      "\n",
      "Will train until validation_1-rmse hasn't improved in 10 rounds.\n",
      "[15]\tvalidation_0-rmse:2.20456\tvalidation_1-rmse:9.7507\n",
      "[13]\tvalidation_0-rmse:2.18877\tvalidation_1-rmse:9.74564\n",
      "[11]\tvalidation_0-rmse:2.17571\tvalidation_1-rmse:9.74104\n",
      "[16]\tvalidation_0-rmse:2.20296\tvalidation_1-rmse:9.75022\n",
      "[1]\tvalidation_0-rmse:2.33305\tvalidation_1-rmse:9.78387\n",
      "[14]\tvalidation_0-rmse:2.1861\tvalidation_1-rmse:9.74545\n",
      "[17]\tvalidation_0-rmse:2.2009\tvalidation_1-rmse:9.74979\n"
     ]
    },
    {
     "name": "stderr",
     "output_type": "stream",
     "text": [
      "[I 2019-01-16 10:02:47,816] Finished a trial resulted in value: 9.749791. Current best value is 9.749791 with parameters: {'max_depth': 3, 'n_estimators': 18}.\n"
     ]
    },
    {
     "name": "stdout",
     "output_type": "stream",
     "text": [
      "[12]\tvalidation_0-rmse:2.16882\tvalidation_1-rmse:9.74098\n",
      "[2]\tvalidation_0-rmse:2.30937\tvalidation_1-rmse:9.7779\n",
      "[15]\tvalidation_0-rmse:2.18376\tvalidation_1-rmse:9.74527\n",
      "[3]\tvalidation_0-rmse:2.28587\tvalidation_1-rmse:9.77024\n",
      "[13]\tvalidation_0-rmse:2.1631\tvalidation_1-rmse:9.7402\n",
      "[16]\tvalidation_0-rmse:2.18171\tvalidation_1-rmse:9.7445\n",
      "[4]\tvalidation_0-rmse:2.26564\tvalidation_1-rmse:9.76573\n",
      "[17]\tvalidation_0-rmse:2.17919\tvalidation_1-rmse:9.7441\n"
     ]
    },
    {
     "name": "stderr",
     "output_type": "stream",
     "text": [
      "[I 2019-01-16 10:02:52,957] Finished a trial resulted in value: 9.744102. Current best value is 9.744102 with parameters: {'max_depth': 4, 'n_estimators': 18}.\n"
     ]
    },
    {
     "name": "stdout",
     "output_type": "stream",
     "text": [
      "[14]\tvalidation_0-rmse:2.15969\tvalidation_1-rmse:9.74005\n",
      "[5]\tvalidation_0-rmse:2.25196\tvalidation_1-rmse:9.76329\n",
      "[15]\tvalidation_0-rmse:2.15632\tvalidation_1-rmse:9.73986\n"
     ]
    },
    {
     "name": "stderr",
     "output_type": "stream",
     "text": [
      "[I 2019-01-16 10:02:54,903] Finished a trial resulted in value: 9.73986. Current best value is 9.73986 with parameters: {'max_depth': 5, 'n_estimators': 16}.\n"
     ]
    },
    {
     "name": "stdout",
     "output_type": "stream",
     "text": [
      "[6]\tvalidation_0-rmse:2.23764\tvalidation_1-rmse:9.75944\n",
      "[7]\tvalidation_0-rmse:2.22588\tvalidation_1-rmse:9.75664\n",
      "[8]\tvalidation_0-rmse:2.21693\tvalidation_1-rmse:9.75475\n",
      "[9]\tvalidation_0-rmse:2.20958\tvalidation_1-rmse:9.7536\n",
      "[10]\tvalidation_0-rmse:2.20404\tvalidation_1-rmse:9.7523\n",
      "[11]\tvalidation_0-rmse:2.19789\tvalidation_1-rmse:9.74974\n",
      "[12]\tvalidation_0-rmse:2.19357\tvalidation_1-rmse:9.74683\n",
      "[13]\tvalidation_0-rmse:2.18877\tvalidation_1-rmse:9.74564\n"
     ]
    },
    {
     "name": "stderr",
     "output_type": "stream",
     "text": [
      "[I 2019-01-16 10:03:00,372] Finished a trial resulted in value: 9.74564. Current best value is 9.73986 with parameters: {'max_depth': 5, 'n_estimators': 16}.\n"
     ]
    },
    {
     "name": "stdout",
     "output_type": "stream",
     "text": [
      "[FrozenTrial(trial_id=1, state=<TrialState.COMPLETE: 1>, value=9.753597, datetime_start=datetime.datetime(2019, 1, 16, 10, 1, 49, 398192), datetime_complete=datetime.datetime(2019, 1, 16, 10, 2, 32, 356063), params={'max_depth': 4, 'n_estimators': 10}, user_attrs={}, system_attrs={}, intermediate_values={0: 9.753597}, params_in_internal_repr={'max_depth': 4.0, 'n_estimators': 10.0}), FrozenTrial(trial_id=2, state=<TrialState.COMPLETE: 1>, value=9.73986, datetime_start=datetime.datetime(2019, 1, 16, 10, 1, 49, 399993), datetime_complete=datetime.datetime(2019, 1, 16, 10, 2, 54, 887535), params={'max_depth': 5, 'n_estimators': 16}, user_attrs={}, system_attrs={}, intermediate_values={0: 9.73986}, params_in_internal_repr={'max_depth': 5.0, 'n_estimators': 16.0}), FrozenTrial(trial_id=3, state=<TrialState.COMPLETE: 1>, value=9.749791, datetime_start=datetime.datetime(2019, 1, 16, 10, 1, 49, 400535), datetime_complete=datetime.datetime(2019, 1, 16, 10, 2, 47, 795286), params={'max_depth': 3, 'n_estimators': 18}, user_attrs={}, system_attrs={}, intermediate_values={0: 9.749791}, params_in_internal_repr={'max_depth': 3.0, 'n_estimators': 18.0}), FrozenTrial(trial_id=4, state=<TrialState.COMPLETE: 1>, value=9.744102, datetime_start=datetime.datetime(2019, 1, 16, 10, 1, 49, 399409), datetime_complete=datetime.datetime(2019, 1, 16, 10, 2, 52, 942302), params={'max_depth': 4, 'n_estimators': 18}, user_attrs={}, system_attrs={}, intermediate_values={0: 9.744102}, params_in_internal_repr={'max_depth': 4.0, 'n_estimators': 18.0}), FrozenTrial(trial_id=5, state=<TrialState.COMPLETE: 1>, value=9.74564, datetime_start=datetime.datetime(2019, 1, 16, 10, 2, 32, 394955), datetime_complete=datetime.datetime(2019, 1, 16, 10, 3, 0, 360547), params={'max_depth': 4, 'n_estimators': 14}, user_attrs={}, system_attrs={}, intermediate_values={0: 9.74564}, params_in_internal_repr={'max_depth': 4.0, 'n_estimators': 14.0})]\n"
     ]
    }
   ],
   "source": [
    "# 学習結果を保存して、後から再利用できるようにしておく\n",
    "study_name = 'xgbr_20190116'  # Unique identifier of the study.\n",
    "study = optuna.create_study(pruner=optuna.pruners.MedianPruner(n_warmup_steps=5),\n",
    "                            study_name=study_name, \n",
    "                            storage='sqlite:///xgbr_20190116.db')\n",
    "\n",
    "# 学習の実行\n",
    "# https://optuna.readthedocs.io/en/stable/reference/study.html#optuna.study.Study.optimize\n",
    "study.optimize(func=objective, # 実行する関数\n",
    "               n_trials=5, # HPO試行回数\n",
    "               timeout=None, # 与えられた秒数後に学習を中止します。default=None\n",
    "               n_jobs=-1 # 並列実行するjob数\n",
    "              )\n",
    "\n",
    "# 結果の表示\n",
    "print(study.trials)"
   ]
  },
  {
   "cell_type": "code",
   "execution_count": 115,
   "metadata": {},
   "outputs": [
    {
     "name": "stdout",
     "output_type": "stream",
     "text": [
      "[0]\tvalidation_0-rmse:2.36608\tvalidation_1-rmse:9.79431\n",
      "Multiple eval metrics have been passed: 'validation_1-rmse' will be used for early stopping.\n",
      "\n",
      "Will train until validation_1-rmse hasn't improved in 10 rounds.\n",
      "[0]\tvalidation_0-rmse:2.36608\tvalidation_1-rmse:9.79431\n",
      "Multiple eval metrics have been passed: 'validation_1-rmse' will be used for early stopping.\n",
      "\n",
      "Will train until validation_1-rmse hasn't improved in 10 rounds.\n",
      "[0]\tvalidation_0-rmse:2.36455\tvalidation_1-rmse:9.79214\n",
      "Multiple eval metrics have been passed: 'validation_1-rmse' will be used for early stopping.\n",
      "\n",
      "Will train until validation_1-rmse hasn't improved in 10 rounds.\n",
      "[0]\tvalidation_0-rmse:2.36455\tvalidation_1-rmse:9.79214\n",
      "Multiple eval metrics have been passed: 'validation_1-rmse' will be used for early stopping.\n",
      "\n",
      "Will train until validation_1-rmse hasn't improved in 10 rounds.\n",
      "[1]\tvalidation_0-rmse:2.33305\tvalidation_1-rmse:9.78387\n",
      "[1]\tvalidation_0-rmse:2.33305\tvalidation_1-rmse:9.78387\n",
      "[1]\tvalidation_0-rmse:2.32769\tvalidation_1-rmse:9.78338\n",
      "[1]\tvalidation_0-rmse:2.32769\tvalidation_1-rmse:9.78338\n",
      "[2]\tvalidation_0-rmse:2.30937\tvalidation_1-rmse:9.7779\n",
      "[2]\tvalidation_0-rmse:2.30937\tvalidation_1-rmse:9.7779\n",
      "[2]\tvalidation_0-rmse:2.30206\tvalidation_1-rmse:9.77718\n",
      "[2]\tvalidation_0-rmse:2.30206\tvalidation_1-rmse:9.77718\n",
      "[3]\tvalidation_0-rmse:2.28587\tvalidation_1-rmse:9.77024\n",
      "[3]\tvalidation_0-rmse:2.28587\tvalidation_1-rmse:9.77024\n",
      "[4]\tvalidation_0-rmse:2.26564\tvalidation_1-rmse:9.76573\n",
      "[3]\tvalidation_0-rmse:2.27493\tvalidation_1-rmse:9.76779\n",
      "[4]\tvalidation_0-rmse:2.26564\tvalidation_1-rmse:9.76573\n",
      "[3]\tvalidation_0-rmse:2.27493\tvalidation_1-rmse:9.76779\n",
      "[5]\tvalidation_0-rmse:2.25196\tvalidation_1-rmse:9.76329\n",
      "[4]\tvalidation_0-rmse:2.25215\tvalidation_1-rmse:9.76038\n",
      "[5]\tvalidation_0-rmse:2.25196\tvalidation_1-rmse:9.76329\n",
      "[4]\tvalidation_0-rmse:2.25215\tvalidation_1-rmse:9.76038\n",
      "[6]\tvalidation_0-rmse:2.23764\tvalidation_1-rmse:9.75944\n",
      "[6]\tvalidation_0-rmse:2.23764\tvalidation_1-rmse:9.75944\n",
      "[5]\tvalidation_0-rmse:2.23822\tvalidation_1-rmse:9.75541\n",
      "[5]\tvalidation_0-rmse:2.23822\tvalidation_1-rmse:9.75541\n",
      "[7]\tvalidation_0-rmse:2.22588\tvalidation_1-rmse:9.75664\n",
      "[7]\tvalidation_0-rmse:2.22588\tvalidation_1-rmse:9.75664\n",
      "[6]\tvalidation_0-rmse:2.2215\tvalidation_1-rmse:9.75217\n",
      "[6]\tvalidation_0-rmse:2.2215\tvalidation_1-rmse:9.75217\n",
      "[8]\tvalidation_0-rmse:2.21693\tvalidation_1-rmse:9.75475\n",
      "[8]\tvalidation_0-rmse:2.21693\tvalidation_1-rmse:9.75475\n",
      "[9]\tvalidation_0-rmse:2.20958\tvalidation_1-rmse:9.7536\n",
      "[7]\tvalidation_0-rmse:2.20815\tvalidation_1-rmse:9.74987\n",
      "[7]\tvalidation_0-rmse:2.20815\tvalidation_1-rmse:9.74987\n",
      "[9]\tvalidation_0-rmse:2.20958\tvalidation_1-rmse:9.7536\n",
      "[10]\tvalidation_0-rmse:2.20404\tvalidation_1-rmse:9.7523\n",
      "[10]\tvalidation_0-rmse:2.20404\tvalidation_1-rmse:9.7523\n",
      "[8]\tvalidation_0-rmse:2.19748\tvalidation_1-rmse:9.74787\n",
      "[8]\tvalidation_0-rmse:2.19748\tvalidation_1-rmse:9.74787\n",
      "[11]\tvalidation_0-rmse:2.19789\tvalidation_1-rmse:9.74974\n",
      "[11]\tvalidation_0-rmse:2.19789\tvalidation_1-rmse:9.74974\n",
      "[9]\tvalidation_0-rmse:2.19009\tvalidation_1-rmse:9.74674\n",
      "[9]\tvalidation_0-rmse:2.19009\tvalidation_1-rmse:9.74674\n",
      "[12]\tvalidation_0-rmse:2.19357\tvalidation_1-rmse:9.74683\n",
      "[12]\tvalidation_0-rmse:2.19357\tvalidation_1-rmse:9.74683\n",
      "[13]\tvalidation_0-rmse:2.18877\tvalidation_1-rmse:9.74564\n",
      "[10]\tvalidation_0-rmse:2.18358\tvalidation_1-rmse:9.74586\n",
      "[10]\tvalidation_0-rmse:2.18358\tvalidation_1-rmse:9.74586\n",
      "[13]\tvalidation_0-rmse:2.18877\tvalidation_1-rmse:9.74564\n",
      "[14]\tvalidation_0-rmse:2.1861\tvalidation_1-rmse:9.74545\n"
     ]
    },
    {
     "name": "stderr",
     "output_type": "stream",
     "text": [
      "[I 2019-01-16 09:58:53,254] Finished a trial resulted in value: 9.745452. Current best value is 9.73986 with parameters: {'max_depth': 5, 'n_estimators': 16}.\n"
     ]
    },
    {
     "name": "stdout",
     "output_type": "stream",
     "text": [
      "[11]\tvalidation_0-rmse:2.17571\tvalidation_1-rmse:9.74104\n",
      "[11]\tvalidation_0-rmse:2.17571\tvalidation_1-rmse:9.74104\n",
      "[14]\tvalidation_0-rmse:2.1861\tvalidation_1-rmse:9.74545\n",
      "[15]\tvalidation_0-rmse:2.18376\tvalidation_1-rmse:9.74527\n",
      "[12]\tvalidation_0-rmse:2.16882\tvalidation_1-rmse:9.74098\n",
      "[12]\tvalidation_0-rmse:2.16882\tvalidation_1-rmse:9.74098\n",
      "[16]\tvalidation_0-rmse:2.18171\tvalidation_1-rmse:9.7445\n",
      "[13]\tvalidation_0-rmse:2.1631\tvalidation_1-rmse:9.7402\n",
      "[13]\tvalidation_0-rmse:2.1631\tvalidation_1-rmse:9.7402\n"
     ]
    },
    {
     "name": "stderr",
     "output_type": "stream",
     "text": [
      "[I 2019-01-16 09:58:59,894] Finished a trial resulted in value: 9.740199. Current best value is 9.73986 with parameters: {'max_depth': 5, 'n_estimators': 16}.\n"
     ]
    },
    {
     "name": "stdout",
     "output_type": "stream",
     "text": [
      "[17]\tvalidation_0-rmse:2.17919\tvalidation_1-rmse:9.7441\n",
      "[14]\tvalidation_0-rmse:2.15969\tvalidation_1-rmse:9.74005\n",
      "[18]\tvalidation_0-rmse:2.17568\tvalidation_1-rmse:9.74279\n",
      "[0]\tvalidation_0-rmse:2.36455\tvalidation_1-rmse:9.79214\n",
      "Multiple eval metrics have been passed: 'validation_1-rmse' will be used for early stopping.\n",
      "\n",
      "Will train until validation_1-rmse hasn't improved in 10 rounds.\n",
      "[15]\tvalidation_0-rmse:2.15632\tvalidation_1-rmse:9.73986\n"
     ]
    },
    {
     "name": "stderr",
     "output_type": "stream",
     "text": [
      "[I 2019-01-16 09:59:05,014] Finished a trial resulted in value: 9.73986. Current best value is 9.73986 with parameters: {'max_depth': 5, 'n_estimators': 16}.\n"
     ]
    },
    {
     "name": "stdout",
     "output_type": "stream",
     "text": [
      "[19]\tvalidation_0-rmse:2.17391\tvalidation_1-rmse:9.74109\n"
     ]
    },
    {
     "name": "stderr",
     "output_type": "stream",
     "text": [
      "[I 2019-01-16 09:59:05,273] Finished a trial resulted in value: 9.74109. Current best value is 9.73986 with parameters: {'max_depth': 5, 'n_estimators': 16}.\n"
     ]
    },
    {
     "name": "stdout",
     "output_type": "stream",
     "text": [
      "[1]\tvalidation_0-rmse:2.32769\tvalidation_1-rmse:9.78338\n",
      "[2]\tvalidation_0-rmse:2.30206\tvalidation_1-rmse:9.77718\n",
      "[3]\tvalidation_0-rmse:2.27493\tvalidation_1-rmse:9.76779\n",
      "[4]\tvalidation_0-rmse:2.25215\tvalidation_1-rmse:9.76038\n",
      "[5]\tvalidation_0-rmse:2.23822\tvalidation_1-rmse:9.75541\n",
      "[6]\tvalidation_0-rmse:2.2215\tvalidation_1-rmse:9.75217\n",
      "[7]\tvalidation_0-rmse:2.20815\tvalidation_1-rmse:9.74987\n",
      "[8]\tvalidation_0-rmse:2.19748\tvalidation_1-rmse:9.74787\n",
      "[9]\tvalidation_0-rmse:2.19009\tvalidation_1-rmse:9.74674\n",
      "[10]\tvalidation_0-rmse:2.18358\tvalidation_1-rmse:9.74586\n"
     ]
    },
    {
     "name": "stderr",
     "output_type": "stream",
     "text": [
      "[I 2019-01-16 09:59:13,651] Finished a trial resulted in value: 9.745857. Current best value is 9.73986 with parameters: {'max_depth': 5, 'n_estimators': 16}.\n"
     ]
    }
   ],
   "source": [
    "# 学習結果を再利用する\n",
    "\n",
    "study = optuna.Study(study_name='xgbr_20190116', storage='sqlite:///xgbr_20190116.db') # 再利用する学習の「名前」、「ストレージ」を指定。\n",
    "# https://optuna.readthedocs.io/en/stable/reference/study.html#optuna.study.Study.optimize\n",
    "study.optimize(func=objective, # 実行する関数\n",
    "               n_trials=5, # HPO試行回数\n",
    "               timeout=None, # 与えられた秒数後に学習を中止します。default=None\n",
    "               n_jobs=-1 # 並列実行するjob数\n",
    "              )"
   ]
  },
  {
   "cell_type": "code",
   "execution_count": 116,
   "metadata": {},
   "outputs": [
    {
     "name": "stdout",
     "output_type": "stream",
     "text": [
      "[FrozenTrial(trial_id=1, state=<TrialState.COMPLETE: 1>, value=9.749361, datetime_start=datetime.datetime(2019, 1, 16, 9, 56, 0, 183170), datetime_complete=datetime.datetime(2019, 1, 16, 9, 56, 54, 881737), params={'max_depth': 3, 'n_estimators': 19}, user_attrs={}, system_attrs={}, intermediate_values={0: 9.749361}, params_in_internal_repr={'max_depth': 3.0, 'n_estimators': 19.0}), FrozenTrial(trial_id=2, state=<TrialState.COMPLETE: 1>, value=9.73986, datetime_start=datetime.datetime(2019, 1, 16, 9, 56, 0, 183715), datetime_complete=datetime.datetime(2019, 1, 16, 9, 57, 0, 464480), params={'max_depth': 5, 'n_estimators': 16}, user_attrs={}, system_attrs={}, intermediate_values={0: 9.73986}, params_in_internal_repr={'max_depth': 5.0, 'n_estimators': 16.0}), FrozenTrial(trial_id=3, state=<TrialState.COMPLETE: 1>, value=9.740982, datetime_start=datetime.datetime(2019, 1, 16, 9, 56, 0, 185167), datetime_complete=datetime.datetime(2019, 1, 16, 9, 56, 57, 19232), params={'max_depth': 5, 'n_estimators': 13}, user_attrs={}, system_attrs={}, intermediate_values={0: 9.740982}, params_in_internal_repr={'max_depth': 5.0, 'n_estimators': 13.0}), FrozenTrial(trial_id=4, state=<TrialState.COMPLETE: 1>, value=9.749791, datetime_start=datetime.datetime(2019, 1, 16, 9, 56, 0, 184525), datetime_complete=datetime.datetime(2019, 1, 16, 9, 56, 52, 411725), params={'max_depth': 3, 'n_estimators': 18}, user_attrs={}, system_attrs={}, intermediate_values={0: 9.749791}, params_in_internal_repr={'max_depth': 3.0, 'n_estimators': 18.0}), FrozenTrial(trial_id=5, state=<TrialState.COMPLETE: 1>, value=9.756486, datetime_start=datetime.datetime(2019, 1, 16, 9, 56, 52, 466082), datetime_complete=datetime.datetime(2019, 1, 16, 9, 57, 6, 261809), params={'max_depth': 3, 'n_estimators': 13}, user_attrs={}, system_attrs={}, intermediate_values={0: 9.756486}, params_in_internal_repr={'max_depth': 3.0, 'n_estimators': 13.0}), FrozenTrial(trial_id=6, state=<TrialState.COMPLETE: 1>, value=9.73986, datetime_start=datetime.datetime(2019, 1, 16, 9, 58, 3, 268932), datetime_complete=datetime.datetime(2019, 1, 16, 9, 59, 4, 998112), params={'max_depth': 5, 'n_estimators': 16}, user_attrs={}, system_attrs={}, intermediate_values={0: 9.73986}, params_in_internal_repr={'max_depth': 5.0, 'n_estimators': 16.0}), FrozenTrial(trial_id=7, state=<TrialState.COMPLETE: 1>, value=9.74109, datetime_start=datetime.datetime(2019, 1, 16, 9, 58, 3, 270292), datetime_complete=datetime.datetime(2019, 1, 16, 9, 59, 5, 237653), params={'max_depth': 4, 'n_estimators': 20}, user_attrs={}, system_attrs={}, intermediate_values={0: 9.74109}, params_in_internal_repr={'max_depth': 4.0, 'n_estimators': 20.0}), FrozenTrial(trial_id=8, state=<TrialState.COMPLETE: 1>, value=9.740199, datetime_start=datetime.datetime(2019, 1, 16, 9, 58, 3, 271310), datetime_complete=datetime.datetime(2019, 1, 16, 9, 58, 59, 862144), params={'max_depth': 5, 'n_estimators': 14}, user_attrs={}, system_attrs={}, intermediate_values={0: 9.740199}, params_in_internal_repr={'max_depth': 5.0, 'n_estimators': 14.0}), FrozenTrial(trial_id=9, state=<TrialState.COMPLETE: 1>, value=9.745452, datetime_start=datetime.datetime(2019, 1, 16, 9, 58, 3, 270069), datetime_complete=datetime.datetime(2019, 1, 16, 9, 58, 53, 201236), params={'max_depth': 4, 'n_estimators': 15}, user_attrs={}, system_attrs={}, intermediate_values={0: 9.745452}, params_in_internal_repr={'max_depth': 4.0, 'n_estimators': 15.0}), FrozenTrial(trial_id=10, state=<TrialState.COMPLETE: 1>, value=9.745857, datetime_start=datetime.datetime(2019, 1, 16, 9, 58, 53, 270507), datetime_complete=datetime.datetime(2019, 1, 16, 9, 59, 13, 639057), params={'max_depth': 5, 'n_estimators': 11}, user_attrs={}, system_attrs={}, intermediate_values={0: 9.745857}, params_in_internal_repr={'max_depth': 5.0, 'n_estimators': 11.0})]\n"
     ]
    }
   ],
   "source": [
    "# 学習結果を再利用できていることの確認\n",
    "\n",
    "print(study.trials)"
   ]
  }
 ],
 "metadata": {
  "kernelspec": {
   "display_name": "conda_python3",
   "language": "python",
   "name": "conda_python3"
  },
  "language_info": {
   "codemirror_mode": {
    "name": "ipython",
    "version": 3
   },
   "file_extension": ".py",
   "mimetype": "text/x-python",
   "name": "python",
   "nbconvert_exporter": "python",
   "pygments_lexer": "ipython3",
   "version": "3.6.5"
  }
 },
 "nbformat": 4,
 "nbformat_minor": 2
}
