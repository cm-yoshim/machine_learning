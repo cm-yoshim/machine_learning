{
 "cells": [
  {
   "cell_type": "markdown",
   "metadata": {},
   "source": [
    "# 最初に\n",
    "もともとは下記を利用していたが、不具合があったらしい。  \n",
    "https://github.com/jacobgil/keras-grad-cam/blob/master/grad-cam.py\n",
    "\n",
    "下記を利用するように修正したところ、うまくいった。  \n",
    "https://github.com/vense/keras-grad-cam\n",
    "\n",
    "### next action\n",
    "デフォルトだとVGG16を利用している。  \n",
    "自作モデルに適応させたバージョンも作ってみたい。\n",
    "\n"
   ]
  },
  {
   "cell_type": "code",
   "execution_count": 7,
   "metadata": {},
   "outputs": [
    {
     "name": "stdout",
     "output_type": "stream",
     "text": [
      "rm: cannot remove ‘./keras-grad-cam’: No such file or directory\n",
      "total 84\n",
      "-rw-rw-r-- 1 ec2-user ec2-user  1588 Sep  1 06:05 cam2.ipynb\n",
      "-rw-rw-r-- 1 ec2-user ec2-user 77578 Sep  1 06:03 cam.ipynb\n",
      "drwxrwxr-x 6 ec2-user ec2-user  4096 Sep  1 05:14 data\n",
      "Cloning into 'keras-grad-cam'...\n",
      "remote: Counting objects: 51, done.\u001b[K\n",
      "remote: Total 51 (delta 0), reused 0 (delta 0), pack-reused 51\u001b[K\n",
      "Unpacking objects: 100% (51/51), done.\n"
     ]
    }
   ],
   "source": [
    "# 冪等性担保してから、git clone\n",
    "! sudo rm -r ./keras-grad-cam\n",
    "! ls -l\n",
    "! git clone https://github.com/vense/keras-grad-cam.git"
   ]
  },
  {
   "cell_type": "code",
   "execution_count": 9,
   "metadata": {},
   "outputs": [
    {
     "name": "stdout",
     "output_type": "stream",
     "text": [
      "-rw-rw-r-- 1 ec2-user ec2-user 3609 Aug 30 15:07 ./data/001.nabeneji/1535641635.0581052.jpg\r\n"
     ]
    }
   ],
   "source": [
    "# もしかしたらcv2が入っていない、とエラーが出力されるかもしれない。\n",
    "# その際は下記の通りインストールする。\n",
    "! pip install opencv-python"
   ]
  },
  {
   "cell_type": "code",
   "execution_count": 11,
   "metadata": {},
   "outputs": [
    {
     "name": "stdout",
     "output_type": "stream",
     "text": [
      "/home/ec2-user/anaconda3/envs/tensorflow_p36/lib/python3.6/importlib/_bootstrap.py:219: RuntimeWarning: numpy.dtype size changed, may indicate binary incompatibility. Expected 96, got 88\n",
      "  return f(*args, **kwds)\n",
      "Using TensorFlow backend.\n",
      "/home/ec2-user/anaconda3/envs/tensorflow_p36/lib/python3.6/importlib/_bootstrap.py:219: RuntimeWarning: numpy.dtype size changed, may indicate binary incompatibility. Expected 96, got 88\n",
      "  return f(*args, **kwds)\n",
      "/home/ec2-user/anaconda3/envs/tensorflow_p36/lib/python3.6/importlib/_bootstrap.py:219: RuntimeWarning: numpy.dtype size changed, may indicate binary incompatibility. Expected 96, got 88\n",
      "  return f(*args, **kwds)\n",
      "/home/ec2-user/anaconda3/envs/tensorflow_p36/lib/python3.6/importlib/_bootstrap.py:219: RuntimeWarning: numpy.dtype size changed, may indicate binary incompatibility. Expected 96, got 88\n",
      "  return f(*args, **kwds)\n",
      "OMP: Warning #181: OMP_PROC_BIND: ignored because KMP_AFFINITY has been defined\n",
      "2018-09-01 06:08:10.663965: I tensorflow/core/common_runtime/process_util.cc:63] Creating new thread pool with default inter op setting: 2. Tune using inter_op_parallelism_threads for best performance.\n",
      "Predicted class:\n",
      "matchstick (n03729826) with probability 0.07\n"
     ]
    }
   ],
   "source": [
    "# 使ってみる(できた！実行したディレクトリに「gradcam.jpg」と「guided_gradcam.jpg」ファイルが出力されている)\n",
    "! python ./keras-grad-cam/grad-cam.py ./data/001.nabeneji/1535641635.0581052.jpg"
   ]
  }
 ],
 "metadata": {
  "kernelspec": {
   "display_name": "conda_tensorflow_p36",
   "language": "python",
   "name": "conda_tensorflow_p36"
  },
  "language_info": {
   "codemirror_mode": {
    "name": "ipython",
    "version": 3
   },
   "file_extension": ".py",
   "mimetype": "text/x-python",
   "name": "python",
   "nbconvert_exporter": "python",
   "pygments_lexer": "ipython3",
   "version": "3.6.5"
  }
 },
 "nbformat": 4,
 "nbformat_minor": 2
}
